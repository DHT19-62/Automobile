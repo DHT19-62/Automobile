{
 "cells": [
  {
   "cell_type": "markdown",
   "metadata": {},
   "source": [
    "<a href=\"https://archive.ics.uci.edu/ml/datasets/wine+quality\"><img src=\"https://archive.ics.uci.edu/ml/assets/logo.gif\" width=\"400\" align=\"center\"></a>\n",
    "\n",
    "<h1 align=\"center\"><font size=\"5\">Project: Automobile - Predict \"Price\"</font></h1>\n",
    "<h2 align=\"center\"><font size=\"5\">Deadline: 2022-05-14 23:59:59 (Saturday)</font></h2>\n",
    "<h3 align=\"center\"><font size=\"5\">Total marks: 6.0</font></h3>"
   ]
  },
  {
   "cell_type": "markdown",
   "metadata": {},
   "source": [
    "### Your information:\n",
    "- Fullname: Dương Hoàng Tiến\n",
    "- Date of birth: 19/02/2001\n",
    "- Place of birth: Long An\n",
    "- Email: htduong25@gmail.com\n",
    "- Mobile phone: 0839343574"
   ]
  },
  {
   "cell_type": "markdown",
   "metadata": {},
   "source": [
    "In this notebook, we practice all the knowledge and skills that we have learned in this course (LDS5: Data pre-processing and Analysis)\n",
    "\n",
    "We apply the **Linear Regression Algorithm** to predict: **\"price of car\"** by accuracy evaluation methods."
   ]
  },
  {
   "cell_type": "markdown",
   "metadata": {},
   "source": [
    "Please read [Automobile information](https://archive.ics.uci.edu/ml/datasets/Automobile) carefully before you do this project!"
   ]
  },
  {
   "cell_type": "markdown",
   "metadata": {},
   "source": [
    "Dataset: imports_85.csv"
   ]
  },
  {
   "cell_type": "markdown",
   "metadata": {},
   "source": [
    "#### Attribute Information:\n",
    "Attribute: Attribute Range\n",
    "1. symboling: -3, -2, -1, 0, 1, 2, 3.\n",
    "2. normalized-losses: continuous from 65 to 256.\n",
    "3. make:\n",
    "alfa-romero, audi, bmw, chevrolet, dodge, honda,\n",
    "isuzu, jaguar, mazda, mercedes-benz, mercury,\n",
    "mitsubishi, nissan, peugot, plymouth, porsche,\n",
    "renault, saab, subaru, toyota, volkswagen, volvo\n",
    "\n",
    "4. fuel-type: diesel, gas.\n",
    "5. aspiration: std, turbo.\n",
    "6. num-of-doors: four, two.\n",
    "7. body-style: hardtop, wagon, sedan, hatchback, convertible.\n",
    "8. drive-wheels: 4wd, fwd, rwd.\n",
    "9. engine-location: front, rear.\n",
    "10. wheel-base: continuous from 86.6 120.9.\n",
    "11. length: continuous from 141.1 to 208.1.\n",
    "12. width: continuous from 60.3 to 72.3.\n",
    "13. height: continuous from 47.8 to 59.8.\n",
    "14. curb-weight: continuous from 1488 to 4066.\n",
    "15. engine-type: dohc, dohcv, l, ohc, ohcf, ohcv, rotor.\n",
    "16. num-of-cylinders: eight, five, four, six, three, twelve, two.\n",
    "17. engine-size: continuous from 61 to 326.\n",
    "18. fuel-system: 1bbl, 2bbl, 4bbl, idi, mfi, mpfi, spdi, spfi.\n",
    "19. bore: continuous from 2.54 to 3.94.\n",
    "20. stroke: continuous from 2.07 to 4.17.\n",
    "21. compression-ratio: continuous from 7 to 23.\n",
    "22. horsepower: continuous from 48 to 288.\n",
    "23. peak-rpm: continuous from 4150 to 6600.\n",
    "24. city-mpg: continuous from 13 to 49.\n",
    "25. highway-mpg: continuous from 16 to 54.\n",
    "26. **price: continuous from 5118 to 45400.**"
   ]
  },
  {
   "cell_type": "markdown",
   "metadata": {},
   "source": [
    "### Requirements:"
   ]
  },
  {
   "cell_type": "markdown",
   "metadata": {},
   "source": [
    "- Data exploration\n",
    "- Data visualization\n",
    "- Pre-processing: Feature selection/extraction\n",
    "- Linear Regression\n",
    "    - Model Evaluation using Test set\n",
    "    - Report"
   ]
  },
  {
   "cell_type": "code",
   "execution_count": 429,
   "metadata": {
    "execution": {
     "iopub.execute_input": "2022-05-13T13:50:43.054079Z",
     "iopub.status.busy": "2022-05-13T13:50:43.053739Z",
     "iopub.status.idle": "2022-05-13T13:50:43.060233Z",
     "shell.execute_reply": "2022-05-13T13:50:43.057909Z",
     "shell.execute_reply.started": "2022-05-13T13:50:43.054037Z"
    },
    "tags": []
   },
   "outputs": [],
   "source": [
    "import numpy as np\n",
    "import pandas as pd\n",
    "import matplotlib.pyplot as plt\n",
    "import seaborn as sns\n",
    "import warnings\n",
    "warnings.filterwarnings('ignore')"
   ]
  },
  {
   "cell_type": "code",
   "execution_count": 430,
   "metadata": {
    "execution": {
     "iopub.execute_input": "2022-05-13T13:50:43.063005Z",
     "iopub.status.busy": "2022-05-13T13:50:43.062580Z",
     "iopub.status.idle": "2022-05-13T13:50:43.080173Z",
     "shell.execute_reply": "2022-05-13T13:50:43.079504Z",
     "shell.execute_reply.started": "2022-05-13T13:50:43.062966Z"
    },
    "tags": []
   },
   "outputs": [],
   "source": [
    "df = pd.read_csv('imports_85.csv', header=None)"
   ]
  },
  {
   "cell_type": "code",
   "execution_count": 431,
   "metadata": {
    "execution": {
     "iopub.execute_input": "2022-05-13T13:50:43.293667Z",
     "iopub.status.busy": "2022-05-13T13:50:43.293412Z",
     "iopub.status.idle": "2022-05-13T13:50:43.320829Z",
     "shell.execute_reply": "2022-05-13T13:50:43.319700Z",
     "shell.execute_reply.started": "2022-05-13T13:50:43.293641Z"
    },
    "tags": []
   },
   "outputs": [
    {
     "data": {
      "text/html": [
       "<div>\n",
       "<style scoped>\n",
       "    .dataframe tbody tr th:only-of-type {\n",
       "        vertical-align: middle;\n",
       "    }\n",
       "\n",
       "    .dataframe tbody tr th {\n",
       "        vertical-align: top;\n",
       "    }\n",
       "\n",
       "    .dataframe thead th {\n",
       "        text-align: right;\n",
       "    }\n",
       "</style>\n",
       "<table border=\"1\" class=\"dataframe\">\n",
       "  <thead>\n",
       "    <tr style=\"text-align: right;\">\n",
       "      <th></th>\n",
       "      <th>0</th>\n",
       "      <th>1</th>\n",
       "      <th>2</th>\n",
       "      <th>3</th>\n",
       "      <th>4</th>\n",
       "      <th>5</th>\n",
       "      <th>6</th>\n",
       "      <th>7</th>\n",
       "      <th>8</th>\n",
       "      <th>9</th>\n",
       "      <th>...</th>\n",
       "      <th>16</th>\n",
       "      <th>17</th>\n",
       "      <th>18</th>\n",
       "      <th>19</th>\n",
       "      <th>20</th>\n",
       "      <th>21</th>\n",
       "      <th>22</th>\n",
       "      <th>23</th>\n",
       "      <th>24</th>\n",
       "      <th>25</th>\n",
       "    </tr>\n",
       "  </thead>\n",
       "  <tbody>\n",
       "    <tr>\n",
       "      <th>0</th>\n",
       "      <td>3</td>\n",
       "      <td>?</td>\n",
       "      <td>alfa-romero</td>\n",
       "      <td>gas</td>\n",
       "      <td>std</td>\n",
       "      <td>two</td>\n",
       "      <td>convertible</td>\n",
       "      <td>rwd</td>\n",
       "      <td>front</td>\n",
       "      <td>88.6</td>\n",
       "      <td>...</td>\n",
       "      <td>130</td>\n",
       "      <td>mpfi</td>\n",
       "      <td>3.47</td>\n",
       "      <td>2.68</td>\n",
       "      <td>9.0</td>\n",
       "      <td>111</td>\n",
       "      <td>5000</td>\n",
       "      <td>21</td>\n",
       "      <td>27</td>\n",
       "      <td>13495</td>\n",
       "    </tr>\n",
       "    <tr>\n",
       "      <th>1</th>\n",
       "      <td>3</td>\n",
       "      <td>?</td>\n",
       "      <td>alfa-romero</td>\n",
       "      <td>gas</td>\n",
       "      <td>std</td>\n",
       "      <td>two</td>\n",
       "      <td>convertible</td>\n",
       "      <td>rwd</td>\n",
       "      <td>front</td>\n",
       "      <td>88.6</td>\n",
       "      <td>...</td>\n",
       "      <td>130</td>\n",
       "      <td>mpfi</td>\n",
       "      <td>3.47</td>\n",
       "      <td>2.68</td>\n",
       "      <td>9.0</td>\n",
       "      <td>111</td>\n",
       "      <td>5000</td>\n",
       "      <td>21</td>\n",
       "      <td>27</td>\n",
       "      <td>16500</td>\n",
       "    </tr>\n",
       "    <tr>\n",
       "      <th>2</th>\n",
       "      <td>1</td>\n",
       "      <td>?</td>\n",
       "      <td>alfa-romero</td>\n",
       "      <td>gas</td>\n",
       "      <td>std</td>\n",
       "      <td>two</td>\n",
       "      <td>hatchback</td>\n",
       "      <td>rwd</td>\n",
       "      <td>front</td>\n",
       "      <td>94.5</td>\n",
       "      <td>...</td>\n",
       "      <td>152</td>\n",
       "      <td>mpfi</td>\n",
       "      <td>2.68</td>\n",
       "      <td>3.47</td>\n",
       "      <td>9.0</td>\n",
       "      <td>154</td>\n",
       "      <td>5000</td>\n",
       "      <td>19</td>\n",
       "      <td>26</td>\n",
       "      <td>16500</td>\n",
       "    </tr>\n",
       "    <tr>\n",
       "      <th>3</th>\n",
       "      <td>2</td>\n",
       "      <td>164</td>\n",
       "      <td>audi</td>\n",
       "      <td>gas</td>\n",
       "      <td>std</td>\n",
       "      <td>four</td>\n",
       "      <td>sedan</td>\n",
       "      <td>fwd</td>\n",
       "      <td>front</td>\n",
       "      <td>99.8</td>\n",
       "      <td>...</td>\n",
       "      <td>109</td>\n",
       "      <td>mpfi</td>\n",
       "      <td>3.19</td>\n",
       "      <td>3.40</td>\n",
       "      <td>10.0</td>\n",
       "      <td>102</td>\n",
       "      <td>5500</td>\n",
       "      <td>24</td>\n",
       "      <td>30</td>\n",
       "      <td>13950</td>\n",
       "    </tr>\n",
       "    <tr>\n",
       "      <th>4</th>\n",
       "      <td>2</td>\n",
       "      <td>164</td>\n",
       "      <td>audi</td>\n",
       "      <td>gas</td>\n",
       "      <td>std</td>\n",
       "      <td>four</td>\n",
       "      <td>sedan</td>\n",
       "      <td>4wd</td>\n",
       "      <td>front</td>\n",
       "      <td>99.4</td>\n",
       "      <td>...</td>\n",
       "      <td>136</td>\n",
       "      <td>mpfi</td>\n",
       "      <td>3.19</td>\n",
       "      <td>3.40</td>\n",
       "      <td>8.0</td>\n",
       "      <td>115</td>\n",
       "      <td>5500</td>\n",
       "      <td>18</td>\n",
       "      <td>22</td>\n",
       "      <td>17450</td>\n",
       "    </tr>\n",
       "  </tbody>\n",
       "</table>\n",
       "<p>5 rows × 26 columns</p>\n",
       "</div>"
      ],
      "text/plain": [
       "   0    1            2    3    4     5            6    7      8     9   ...  \\\n",
       "0   3    ?  alfa-romero  gas  std   two  convertible  rwd  front  88.6  ...   \n",
       "1   3    ?  alfa-romero  gas  std   two  convertible  rwd  front  88.6  ...   \n",
       "2   1    ?  alfa-romero  gas  std   two    hatchback  rwd  front  94.5  ...   \n",
       "3   2  164         audi  gas  std  four        sedan  fwd  front  99.8  ...   \n",
       "4   2  164         audi  gas  std  four        sedan  4wd  front  99.4  ...   \n",
       "\n",
       "    16    17    18    19    20   21    22  23  24     25  \n",
       "0  130  mpfi  3.47  2.68   9.0  111  5000  21  27  13495  \n",
       "1  130  mpfi  3.47  2.68   9.0  111  5000  21  27  16500  \n",
       "2  152  mpfi  2.68  3.47   9.0  154  5000  19  26  16500  \n",
       "3  109  mpfi  3.19  3.40  10.0  102  5500  24  30  13950  \n",
       "4  136  mpfi  3.19  3.40   8.0  115  5500  18  22  17450  \n",
       "\n",
       "[5 rows x 26 columns]"
      ]
     },
     "execution_count": 431,
     "metadata": {},
     "output_type": "execute_result"
    }
   ],
   "source": [
    "df.head()"
   ]
  },
  {
   "cell_type": "code",
   "execution_count": 432,
   "metadata": {
    "execution": {
     "iopub.execute_input": "2022-05-13T13:50:43.528277Z",
     "iopub.status.busy": "2022-05-13T13:50:43.528007Z",
     "iopub.status.idle": "2022-05-13T13:50:43.553415Z",
     "shell.execute_reply": "2022-05-13T13:50:43.552476Z",
     "shell.execute_reply.started": "2022-05-13T13:50:43.528250Z"
    },
    "tags": []
   },
   "outputs": [
    {
     "data": {
      "text/html": [
       "<div>\n",
       "<style scoped>\n",
       "    .dataframe tbody tr th:only-of-type {\n",
       "        vertical-align: middle;\n",
       "    }\n",
       "\n",
       "    .dataframe tbody tr th {\n",
       "        vertical-align: top;\n",
       "    }\n",
       "\n",
       "    .dataframe thead th {\n",
       "        text-align: right;\n",
       "    }\n",
       "</style>\n",
       "<table border=\"1\" class=\"dataframe\">\n",
       "  <thead>\n",
       "    <tr style=\"text-align: right;\">\n",
       "      <th></th>\n",
       "      <th>0</th>\n",
       "      <th>1</th>\n",
       "      <th>2</th>\n",
       "      <th>3</th>\n",
       "      <th>4</th>\n",
       "      <th>5</th>\n",
       "      <th>6</th>\n",
       "      <th>7</th>\n",
       "      <th>8</th>\n",
       "      <th>9</th>\n",
       "      <th>...</th>\n",
       "      <th>16</th>\n",
       "      <th>17</th>\n",
       "      <th>18</th>\n",
       "      <th>19</th>\n",
       "      <th>20</th>\n",
       "      <th>21</th>\n",
       "      <th>22</th>\n",
       "      <th>23</th>\n",
       "      <th>24</th>\n",
       "      <th>25</th>\n",
       "    </tr>\n",
       "  </thead>\n",
       "  <tbody>\n",
       "    <tr>\n",
       "      <th>200</th>\n",
       "      <td>-1</td>\n",
       "      <td>95</td>\n",
       "      <td>volvo</td>\n",
       "      <td>gas</td>\n",
       "      <td>std</td>\n",
       "      <td>four</td>\n",
       "      <td>sedan</td>\n",
       "      <td>rwd</td>\n",
       "      <td>front</td>\n",
       "      <td>109.1</td>\n",
       "      <td>...</td>\n",
       "      <td>141</td>\n",
       "      <td>mpfi</td>\n",
       "      <td>3.78</td>\n",
       "      <td>3.15</td>\n",
       "      <td>9.5</td>\n",
       "      <td>114</td>\n",
       "      <td>5400</td>\n",
       "      <td>23</td>\n",
       "      <td>28</td>\n",
       "      <td>16845</td>\n",
       "    </tr>\n",
       "    <tr>\n",
       "      <th>201</th>\n",
       "      <td>-1</td>\n",
       "      <td>95</td>\n",
       "      <td>volvo</td>\n",
       "      <td>gas</td>\n",
       "      <td>turbo</td>\n",
       "      <td>four</td>\n",
       "      <td>sedan</td>\n",
       "      <td>rwd</td>\n",
       "      <td>front</td>\n",
       "      <td>109.1</td>\n",
       "      <td>...</td>\n",
       "      <td>141</td>\n",
       "      <td>mpfi</td>\n",
       "      <td>3.78</td>\n",
       "      <td>3.15</td>\n",
       "      <td>8.7</td>\n",
       "      <td>160</td>\n",
       "      <td>5300</td>\n",
       "      <td>19</td>\n",
       "      <td>25</td>\n",
       "      <td>19045</td>\n",
       "    </tr>\n",
       "    <tr>\n",
       "      <th>202</th>\n",
       "      <td>-1</td>\n",
       "      <td>95</td>\n",
       "      <td>volvo</td>\n",
       "      <td>gas</td>\n",
       "      <td>std</td>\n",
       "      <td>four</td>\n",
       "      <td>sedan</td>\n",
       "      <td>rwd</td>\n",
       "      <td>front</td>\n",
       "      <td>109.1</td>\n",
       "      <td>...</td>\n",
       "      <td>173</td>\n",
       "      <td>mpfi</td>\n",
       "      <td>3.58</td>\n",
       "      <td>2.87</td>\n",
       "      <td>8.8</td>\n",
       "      <td>134</td>\n",
       "      <td>5500</td>\n",
       "      <td>18</td>\n",
       "      <td>23</td>\n",
       "      <td>21485</td>\n",
       "    </tr>\n",
       "    <tr>\n",
       "      <th>203</th>\n",
       "      <td>-1</td>\n",
       "      <td>95</td>\n",
       "      <td>volvo</td>\n",
       "      <td>diesel</td>\n",
       "      <td>turbo</td>\n",
       "      <td>four</td>\n",
       "      <td>sedan</td>\n",
       "      <td>rwd</td>\n",
       "      <td>front</td>\n",
       "      <td>109.1</td>\n",
       "      <td>...</td>\n",
       "      <td>145</td>\n",
       "      <td>idi</td>\n",
       "      <td>3.01</td>\n",
       "      <td>3.40</td>\n",
       "      <td>23.0</td>\n",
       "      <td>106</td>\n",
       "      <td>4800</td>\n",
       "      <td>26</td>\n",
       "      <td>27</td>\n",
       "      <td>22470</td>\n",
       "    </tr>\n",
       "    <tr>\n",
       "      <th>204</th>\n",
       "      <td>-1</td>\n",
       "      <td>95</td>\n",
       "      <td>volvo</td>\n",
       "      <td>gas</td>\n",
       "      <td>turbo</td>\n",
       "      <td>four</td>\n",
       "      <td>sedan</td>\n",
       "      <td>rwd</td>\n",
       "      <td>front</td>\n",
       "      <td>109.1</td>\n",
       "      <td>...</td>\n",
       "      <td>141</td>\n",
       "      <td>mpfi</td>\n",
       "      <td>3.78</td>\n",
       "      <td>3.15</td>\n",
       "      <td>9.5</td>\n",
       "      <td>114</td>\n",
       "      <td>5400</td>\n",
       "      <td>19</td>\n",
       "      <td>25</td>\n",
       "      <td>22625</td>\n",
       "    </tr>\n",
       "  </tbody>\n",
       "</table>\n",
       "<p>5 rows × 26 columns</p>\n",
       "</div>"
      ],
      "text/plain": [
       "     0   1      2       3      4     5      6    7      8      9   ...   16  \\\n",
       "200  -1  95  volvo     gas    std  four  sedan  rwd  front  109.1  ...  141   \n",
       "201  -1  95  volvo     gas  turbo  four  sedan  rwd  front  109.1  ...  141   \n",
       "202  -1  95  volvo     gas    std  four  sedan  rwd  front  109.1  ...  173   \n",
       "203  -1  95  volvo  diesel  turbo  four  sedan  rwd  front  109.1  ...  145   \n",
       "204  -1  95  volvo     gas  turbo  four  sedan  rwd  front  109.1  ...  141   \n",
       "\n",
       "       17    18    19    20   21    22  23  24     25  \n",
       "200  mpfi  3.78  3.15   9.5  114  5400  23  28  16845  \n",
       "201  mpfi  3.78  3.15   8.7  160  5300  19  25  19045  \n",
       "202  mpfi  3.58  2.87   8.8  134  5500  18  23  21485  \n",
       "203   idi  3.01  3.40  23.0  106  4800  26  27  22470  \n",
       "204  mpfi  3.78  3.15   9.5  114  5400  19  25  22625  \n",
       "\n",
       "[5 rows x 26 columns]"
      ]
     },
     "execution_count": 432,
     "metadata": {},
     "output_type": "execute_result"
    }
   ],
   "source": [
    "df.tail()"
   ]
  },
  {
   "cell_type": "code",
   "execution_count": 433,
   "metadata": {
    "execution": {
     "iopub.execute_input": "2022-05-13T13:50:43.556221Z",
     "iopub.status.busy": "2022-05-13T13:50:43.555838Z",
     "iopub.status.idle": "2022-05-13T13:50:43.564796Z",
     "shell.execute_reply": "2022-05-13T13:50:43.563708Z",
     "shell.execute_reply.started": "2022-05-13T13:50:43.556184Z"
    },
    "tags": []
   },
   "outputs": [],
   "source": [
    "columns_names = [\"symboling\", \"normalized-losses\", \"make\", \"fuel-type\", \"aspiration\",\n",
    "                \"num-of-doors\", \"body-style\", \"drive-wheels\", \"engine-location\", \"wheel-base\",\n",
    "                \"length\", \"width\", \"height\", \"curb-weight\", \"engine-type\",\n",
    "                \"num-of-cylinders\", \"engine-size\", \"fuel-system\", \"bore\", \"stroke\",\n",
    "                \"compression-ratio\", \"horsepower\", \"peak-rpm\", \"city-mpg\", \"highway-mpg\", \"price\"]\n",
    "df.columns = columns_names"
   ]
  },
  {
   "cell_type": "code",
   "execution_count": 434,
   "metadata": {
    "execution": {
     "iopub.execute_input": "2022-05-13T13:50:43.758835Z",
     "iopub.status.busy": "2022-05-13T13:50:43.758604Z",
     "iopub.status.idle": "2022-05-13T13:50:43.785802Z",
     "shell.execute_reply": "2022-05-13T13:50:43.784680Z",
     "shell.execute_reply.started": "2022-05-13T13:50:43.758810Z"
    },
    "tags": []
   },
   "outputs": [
    {
     "data": {
      "text/html": [
       "<div>\n",
       "<style scoped>\n",
       "    .dataframe tbody tr th:only-of-type {\n",
       "        vertical-align: middle;\n",
       "    }\n",
       "\n",
       "    .dataframe tbody tr th {\n",
       "        vertical-align: top;\n",
       "    }\n",
       "\n",
       "    .dataframe thead th {\n",
       "        text-align: right;\n",
       "    }\n",
       "</style>\n",
       "<table border=\"1\" class=\"dataframe\">\n",
       "  <thead>\n",
       "    <tr style=\"text-align: right;\">\n",
       "      <th></th>\n",
       "      <th>symboling</th>\n",
       "      <th>normalized-losses</th>\n",
       "      <th>make</th>\n",
       "      <th>fuel-type</th>\n",
       "      <th>aspiration</th>\n",
       "      <th>num-of-doors</th>\n",
       "      <th>body-style</th>\n",
       "      <th>drive-wheels</th>\n",
       "      <th>engine-location</th>\n",
       "      <th>wheel-base</th>\n",
       "      <th>...</th>\n",
       "      <th>engine-size</th>\n",
       "      <th>fuel-system</th>\n",
       "      <th>bore</th>\n",
       "      <th>stroke</th>\n",
       "      <th>compression-ratio</th>\n",
       "      <th>horsepower</th>\n",
       "      <th>peak-rpm</th>\n",
       "      <th>city-mpg</th>\n",
       "      <th>highway-mpg</th>\n",
       "      <th>price</th>\n",
       "    </tr>\n",
       "  </thead>\n",
       "  <tbody>\n",
       "    <tr>\n",
       "      <th>0</th>\n",
       "      <td>3</td>\n",
       "      <td>?</td>\n",
       "      <td>alfa-romero</td>\n",
       "      <td>gas</td>\n",
       "      <td>std</td>\n",
       "      <td>two</td>\n",
       "      <td>convertible</td>\n",
       "      <td>rwd</td>\n",
       "      <td>front</td>\n",
       "      <td>88.6</td>\n",
       "      <td>...</td>\n",
       "      <td>130</td>\n",
       "      <td>mpfi</td>\n",
       "      <td>3.47</td>\n",
       "      <td>2.68</td>\n",
       "      <td>9.0</td>\n",
       "      <td>111</td>\n",
       "      <td>5000</td>\n",
       "      <td>21</td>\n",
       "      <td>27</td>\n",
       "      <td>13495</td>\n",
       "    </tr>\n",
       "    <tr>\n",
       "      <th>1</th>\n",
       "      <td>3</td>\n",
       "      <td>?</td>\n",
       "      <td>alfa-romero</td>\n",
       "      <td>gas</td>\n",
       "      <td>std</td>\n",
       "      <td>two</td>\n",
       "      <td>convertible</td>\n",
       "      <td>rwd</td>\n",
       "      <td>front</td>\n",
       "      <td>88.6</td>\n",
       "      <td>...</td>\n",
       "      <td>130</td>\n",
       "      <td>mpfi</td>\n",
       "      <td>3.47</td>\n",
       "      <td>2.68</td>\n",
       "      <td>9.0</td>\n",
       "      <td>111</td>\n",
       "      <td>5000</td>\n",
       "      <td>21</td>\n",
       "      <td>27</td>\n",
       "      <td>16500</td>\n",
       "    </tr>\n",
       "    <tr>\n",
       "      <th>2</th>\n",
       "      <td>1</td>\n",
       "      <td>?</td>\n",
       "      <td>alfa-romero</td>\n",
       "      <td>gas</td>\n",
       "      <td>std</td>\n",
       "      <td>two</td>\n",
       "      <td>hatchback</td>\n",
       "      <td>rwd</td>\n",
       "      <td>front</td>\n",
       "      <td>94.5</td>\n",
       "      <td>...</td>\n",
       "      <td>152</td>\n",
       "      <td>mpfi</td>\n",
       "      <td>2.68</td>\n",
       "      <td>3.47</td>\n",
       "      <td>9.0</td>\n",
       "      <td>154</td>\n",
       "      <td>5000</td>\n",
       "      <td>19</td>\n",
       "      <td>26</td>\n",
       "      <td>16500</td>\n",
       "    </tr>\n",
       "    <tr>\n",
       "      <th>3</th>\n",
       "      <td>2</td>\n",
       "      <td>164</td>\n",
       "      <td>audi</td>\n",
       "      <td>gas</td>\n",
       "      <td>std</td>\n",
       "      <td>four</td>\n",
       "      <td>sedan</td>\n",
       "      <td>fwd</td>\n",
       "      <td>front</td>\n",
       "      <td>99.8</td>\n",
       "      <td>...</td>\n",
       "      <td>109</td>\n",
       "      <td>mpfi</td>\n",
       "      <td>3.19</td>\n",
       "      <td>3.40</td>\n",
       "      <td>10.0</td>\n",
       "      <td>102</td>\n",
       "      <td>5500</td>\n",
       "      <td>24</td>\n",
       "      <td>30</td>\n",
       "      <td>13950</td>\n",
       "    </tr>\n",
       "    <tr>\n",
       "      <th>4</th>\n",
       "      <td>2</td>\n",
       "      <td>164</td>\n",
       "      <td>audi</td>\n",
       "      <td>gas</td>\n",
       "      <td>std</td>\n",
       "      <td>four</td>\n",
       "      <td>sedan</td>\n",
       "      <td>4wd</td>\n",
       "      <td>front</td>\n",
       "      <td>99.4</td>\n",
       "      <td>...</td>\n",
       "      <td>136</td>\n",
       "      <td>mpfi</td>\n",
       "      <td>3.19</td>\n",
       "      <td>3.40</td>\n",
       "      <td>8.0</td>\n",
       "      <td>115</td>\n",
       "      <td>5500</td>\n",
       "      <td>18</td>\n",
       "      <td>22</td>\n",
       "      <td>17450</td>\n",
       "    </tr>\n",
       "  </tbody>\n",
       "</table>\n",
       "<p>5 rows × 26 columns</p>\n",
       "</div>"
      ],
      "text/plain": [
       "   symboling normalized-losses         make fuel-type aspiration num-of-doors  \\\n",
       "0          3                 ?  alfa-romero       gas        std          two   \n",
       "1          3                 ?  alfa-romero       gas        std          two   \n",
       "2          1                 ?  alfa-romero       gas        std          two   \n",
       "3          2               164         audi       gas        std         four   \n",
       "4          2               164         audi       gas        std         four   \n",
       "\n",
       "    body-style drive-wheels engine-location  wheel-base  ...  engine-size  \\\n",
       "0  convertible          rwd           front        88.6  ...          130   \n",
       "1  convertible          rwd           front        88.6  ...          130   \n",
       "2    hatchback          rwd           front        94.5  ...          152   \n",
       "3        sedan          fwd           front        99.8  ...          109   \n",
       "4        sedan          4wd           front        99.4  ...          136   \n",
       "\n",
       "   fuel-system  bore  stroke compression-ratio horsepower  peak-rpm city-mpg  \\\n",
       "0         mpfi  3.47    2.68               9.0        111      5000       21   \n",
       "1         mpfi  3.47    2.68               9.0        111      5000       21   \n",
       "2         mpfi  2.68    3.47               9.0        154      5000       19   \n",
       "3         mpfi  3.19    3.40              10.0        102      5500       24   \n",
       "4         mpfi  3.19    3.40               8.0        115      5500       18   \n",
       "\n",
       "  highway-mpg  price  \n",
       "0          27  13495  \n",
       "1          27  16500  \n",
       "2          26  16500  \n",
       "3          30  13950  \n",
       "4          22  17450  \n",
       "\n",
       "[5 rows x 26 columns]"
      ]
     },
     "execution_count": 434,
     "metadata": {},
     "output_type": "execute_result"
    }
   ],
   "source": [
    "df.head()"
   ]
  },
  {
   "cell_type": "code",
   "execution_count": 435,
   "metadata": {
    "execution": {
     "iopub.execute_input": "2022-05-13T13:50:43.788603Z",
     "iopub.status.busy": "2022-05-13T13:50:43.788181Z",
     "iopub.status.idle": "2022-05-13T13:50:43.796632Z",
     "shell.execute_reply": "2022-05-13T13:50:43.795562Z",
     "shell.execute_reply.started": "2022-05-13T13:50:43.788566Z"
    },
    "tags": []
   },
   "outputs": [
    {
     "data": {
      "text/plain": [
       "(205, 26)"
      ]
     },
     "execution_count": 435,
     "metadata": {},
     "output_type": "execute_result"
    }
   ],
   "source": [
    "df.shape"
   ]
  },
  {
   "cell_type": "code",
   "execution_count": 436,
   "metadata": {
    "execution": {
     "iopub.execute_input": "2022-05-13T13:50:43.808306Z",
     "iopub.status.busy": "2022-05-13T13:50:43.807732Z",
     "iopub.status.idle": "2022-05-13T13:50:43.827293Z",
     "shell.execute_reply": "2022-05-13T13:50:43.826333Z",
     "shell.execute_reply.started": "2022-05-13T13:50:43.808271Z"
    },
    "tags": []
   },
   "outputs": [
    {
     "name": "stdout",
     "output_type": "stream",
     "text": [
      "<class 'pandas.core.frame.DataFrame'>\n",
      "RangeIndex: 205 entries, 0 to 204\n",
      "Data columns (total 26 columns):\n",
      " #   Column             Non-Null Count  Dtype  \n",
      "---  ------             --------------  -----  \n",
      " 0   symboling          205 non-null    int64  \n",
      " 1   normalized-losses  205 non-null    object \n",
      " 2   make               205 non-null    object \n",
      " 3   fuel-type          205 non-null    object \n",
      " 4   aspiration         205 non-null    object \n",
      " 5   num-of-doors       205 non-null    object \n",
      " 6   body-style         205 non-null    object \n",
      " 7   drive-wheels       205 non-null    object \n",
      " 8   engine-location    205 non-null    object \n",
      " 9   wheel-base         205 non-null    float64\n",
      " 10  length             205 non-null    float64\n",
      " 11  width              205 non-null    float64\n",
      " 12  height             205 non-null    float64\n",
      " 13  curb-weight        205 non-null    int64  \n",
      " 14  engine-type        205 non-null    object \n",
      " 15  num-of-cylinders   205 non-null    object \n",
      " 16  engine-size        205 non-null    int64  \n",
      " 17  fuel-system        205 non-null    object \n",
      " 18  bore               205 non-null    object \n",
      " 19  stroke             205 non-null    object \n",
      " 20  compression-ratio  205 non-null    float64\n",
      " 21  horsepower         205 non-null    object \n",
      " 22  peak-rpm           205 non-null    object \n",
      " 23  city-mpg           205 non-null    int64  \n",
      " 24  highway-mpg        205 non-null    int64  \n",
      " 25  price              205 non-null    object \n",
      "dtypes: float64(5), int64(5), object(16)\n",
      "memory usage: 41.8+ KB\n"
     ]
    }
   ],
   "source": [
    "df.info()"
   ]
  },
  {
   "cell_type": "code",
   "execution_count": 437,
   "metadata": {
    "execution": {
     "iopub.execute_input": "2022-05-13T13:50:44.018175Z",
     "iopub.status.busy": "2022-05-13T13:50:44.017929Z",
     "iopub.status.idle": "2022-05-13T13:50:44.059103Z",
     "shell.execute_reply": "2022-05-13T13:50:44.057713Z",
     "shell.execute_reply.started": "2022-05-13T13:50:44.018151Z"
    },
    "tags": []
   },
   "outputs": [
    {
     "data": {
      "text/html": [
       "<div>\n",
       "<style scoped>\n",
       "    .dataframe tbody tr th:only-of-type {\n",
       "        vertical-align: middle;\n",
       "    }\n",
       "\n",
       "    .dataframe tbody tr th {\n",
       "        vertical-align: top;\n",
       "    }\n",
       "\n",
       "    .dataframe thead th {\n",
       "        text-align: right;\n",
       "    }\n",
       "</style>\n",
       "<table border=\"1\" class=\"dataframe\">\n",
       "  <thead>\n",
       "    <tr style=\"text-align: right;\">\n",
       "      <th></th>\n",
       "      <th>symboling</th>\n",
       "      <th>wheel-base</th>\n",
       "      <th>length</th>\n",
       "      <th>width</th>\n",
       "      <th>height</th>\n",
       "      <th>curb-weight</th>\n",
       "      <th>engine-size</th>\n",
       "      <th>compression-ratio</th>\n",
       "      <th>city-mpg</th>\n",
       "      <th>highway-mpg</th>\n",
       "    </tr>\n",
       "  </thead>\n",
       "  <tbody>\n",
       "    <tr>\n",
       "      <th>count</th>\n",
       "      <td>205.000000</td>\n",
       "      <td>205.000000</td>\n",
       "      <td>205.000000</td>\n",
       "      <td>205.000000</td>\n",
       "      <td>205.000000</td>\n",
       "      <td>205.000000</td>\n",
       "      <td>205.000000</td>\n",
       "      <td>205.000000</td>\n",
       "      <td>205.000000</td>\n",
       "      <td>205.000000</td>\n",
       "    </tr>\n",
       "    <tr>\n",
       "      <th>mean</th>\n",
       "      <td>0.834146</td>\n",
       "      <td>98.756585</td>\n",
       "      <td>174.049268</td>\n",
       "      <td>65.907805</td>\n",
       "      <td>53.724878</td>\n",
       "      <td>2555.565854</td>\n",
       "      <td>126.907317</td>\n",
       "      <td>10.142537</td>\n",
       "      <td>25.219512</td>\n",
       "      <td>30.751220</td>\n",
       "    </tr>\n",
       "    <tr>\n",
       "      <th>std</th>\n",
       "      <td>1.245307</td>\n",
       "      <td>6.021776</td>\n",
       "      <td>12.337289</td>\n",
       "      <td>2.145204</td>\n",
       "      <td>2.443522</td>\n",
       "      <td>520.680204</td>\n",
       "      <td>41.642693</td>\n",
       "      <td>3.972040</td>\n",
       "      <td>6.542142</td>\n",
       "      <td>6.886443</td>\n",
       "    </tr>\n",
       "    <tr>\n",
       "      <th>min</th>\n",
       "      <td>-2.000000</td>\n",
       "      <td>86.600000</td>\n",
       "      <td>141.100000</td>\n",
       "      <td>60.300000</td>\n",
       "      <td>47.800000</td>\n",
       "      <td>1488.000000</td>\n",
       "      <td>61.000000</td>\n",
       "      <td>7.000000</td>\n",
       "      <td>13.000000</td>\n",
       "      <td>16.000000</td>\n",
       "    </tr>\n",
       "    <tr>\n",
       "      <th>25%</th>\n",
       "      <td>0.000000</td>\n",
       "      <td>94.500000</td>\n",
       "      <td>166.300000</td>\n",
       "      <td>64.100000</td>\n",
       "      <td>52.000000</td>\n",
       "      <td>2145.000000</td>\n",
       "      <td>97.000000</td>\n",
       "      <td>8.600000</td>\n",
       "      <td>19.000000</td>\n",
       "      <td>25.000000</td>\n",
       "    </tr>\n",
       "    <tr>\n",
       "      <th>50%</th>\n",
       "      <td>1.000000</td>\n",
       "      <td>97.000000</td>\n",
       "      <td>173.200000</td>\n",
       "      <td>65.500000</td>\n",
       "      <td>54.100000</td>\n",
       "      <td>2414.000000</td>\n",
       "      <td>120.000000</td>\n",
       "      <td>9.000000</td>\n",
       "      <td>24.000000</td>\n",
       "      <td>30.000000</td>\n",
       "    </tr>\n",
       "    <tr>\n",
       "      <th>75%</th>\n",
       "      <td>2.000000</td>\n",
       "      <td>102.400000</td>\n",
       "      <td>183.100000</td>\n",
       "      <td>66.900000</td>\n",
       "      <td>55.500000</td>\n",
       "      <td>2935.000000</td>\n",
       "      <td>141.000000</td>\n",
       "      <td>9.400000</td>\n",
       "      <td>30.000000</td>\n",
       "      <td>34.000000</td>\n",
       "    </tr>\n",
       "    <tr>\n",
       "      <th>max</th>\n",
       "      <td>3.000000</td>\n",
       "      <td>120.900000</td>\n",
       "      <td>208.100000</td>\n",
       "      <td>72.300000</td>\n",
       "      <td>59.800000</td>\n",
       "      <td>4066.000000</td>\n",
       "      <td>326.000000</td>\n",
       "      <td>23.000000</td>\n",
       "      <td>49.000000</td>\n",
       "      <td>54.000000</td>\n",
       "    </tr>\n",
       "  </tbody>\n",
       "</table>\n",
       "</div>"
      ],
      "text/plain": [
       "        symboling  wheel-base      length       width      height  \\\n",
       "count  205.000000  205.000000  205.000000  205.000000  205.000000   \n",
       "mean     0.834146   98.756585  174.049268   65.907805   53.724878   \n",
       "std      1.245307    6.021776   12.337289    2.145204    2.443522   \n",
       "min     -2.000000   86.600000  141.100000   60.300000   47.800000   \n",
       "25%      0.000000   94.500000  166.300000   64.100000   52.000000   \n",
       "50%      1.000000   97.000000  173.200000   65.500000   54.100000   \n",
       "75%      2.000000  102.400000  183.100000   66.900000   55.500000   \n",
       "max      3.000000  120.900000  208.100000   72.300000   59.800000   \n",
       "\n",
       "       curb-weight  engine-size  compression-ratio    city-mpg  highway-mpg  \n",
       "count   205.000000   205.000000         205.000000  205.000000   205.000000  \n",
       "mean   2555.565854   126.907317          10.142537   25.219512    30.751220  \n",
       "std     520.680204    41.642693           3.972040    6.542142     6.886443  \n",
       "min    1488.000000    61.000000           7.000000   13.000000    16.000000  \n",
       "25%    2145.000000    97.000000           8.600000   19.000000    25.000000  \n",
       "50%    2414.000000   120.000000           9.000000   24.000000    30.000000  \n",
       "75%    2935.000000   141.000000           9.400000   30.000000    34.000000  \n",
       "max    4066.000000   326.000000          23.000000   49.000000    54.000000  "
      ]
     },
     "execution_count": 437,
     "metadata": {},
     "output_type": "execute_result"
    }
   ],
   "source": [
    "df.describe()"
   ]
  },
  {
   "cell_type": "code",
   "execution_count": 438,
   "metadata": {
    "execution": {
     "iopub.execute_input": "2022-05-13T13:50:44.229145Z",
     "iopub.status.busy": "2022-05-13T13:50:44.228917Z",
     "iopub.status.idle": "2022-05-13T13:50:44.323027Z",
     "shell.execute_reply": "2022-05-13T13:50:44.321934Z",
     "shell.execute_reply.started": "2022-05-13T13:50:44.229121Z"
    },
    "tags": []
   },
   "outputs": [
    {
     "data": {
      "text/html": [
       "<div>\n",
       "<style scoped>\n",
       "    .dataframe tbody tr th:only-of-type {\n",
       "        vertical-align: middle;\n",
       "    }\n",
       "\n",
       "    .dataframe tbody tr th {\n",
       "        vertical-align: top;\n",
       "    }\n",
       "\n",
       "    .dataframe thead th {\n",
       "        text-align: right;\n",
       "    }\n",
       "</style>\n",
       "<table border=\"1\" class=\"dataframe\">\n",
       "  <thead>\n",
       "    <tr style=\"text-align: right;\">\n",
       "      <th></th>\n",
       "      <th>symboling</th>\n",
       "      <th>normalized-losses</th>\n",
       "      <th>make</th>\n",
       "      <th>fuel-type</th>\n",
       "      <th>aspiration</th>\n",
       "      <th>num-of-doors</th>\n",
       "      <th>body-style</th>\n",
       "      <th>drive-wheels</th>\n",
       "      <th>engine-location</th>\n",
       "      <th>wheel-base</th>\n",
       "      <th>...</th>\n",
       "      <th>engine-size</th>\n",
       "      <th>fuel-system</th>\n",
       "      <th>bore</th>\n",
       "      <th>stroke</th>\n",
       "      <th>compression-ratio</th>\n",
       "      <th>horsepower</th>\n",
       "      <th>peak-rpm</th>\n",
       "      <th>city-mpg</th>\n",
       "      <th>highway-mpg</th>\n",
       "      <th>price</th>\n",
       "    </tr>\n",
       "  </thead>\n",
       "  <tbody>\n",
       "    <tr>\n",
       "      <th>count</th>\n",
       "      <td>205.000000</td>\n",
       "      <td>205</td>\n",
       "      <td>205</td>\n",
       "      <td>205</td>\n",
       "      <td>205</td>\n",
       "      <td>205</td>\n",
       "      <td>205</td>\n",
       "      <td>205</td>\n",
       "      <td>205</td>\n",
       "      <td>205.000000</td>\n",
       "      <td>...</td>\n",
       "      <td>205.000000</td>\n",
       "      <td>205</td>\n",
       "      <td>205</td>\n",
       "      <td>205</td>\n",
       "      <td>205.000000</td>\n",
       "      <td>205</td>\n",
       "      <td>205</td>\n",
       "      <td>205.000000</td>\n",
       "      <td>205.000000</td>\n",
       "      <td>205</td>\n",
       "    </tr>\n",
       "    <tr>\n",
       "      <th>unique</th>\n",
       "      <td>NaN</td>\n",
       "      <td>52</td>\n",
       "      <td>22</td>\n",
       "      <td>2</td>\n",
       "      <td>2</td>\n",
       "      <td>3</td>\n",
       "      <td>5</td>\n",
       "      <td>3</td>\n",
       "      <td>2</td>\n",
       "      <td>NaN</td>\n",
       "      <td>...</td>\n",
       "      <td>NaN</td>\n",
       "      <td>8</td>\n",
       "      <td>39</td>\n",
       "      <td>37</td>\n",
       "      <td>NaN</td>\n",
       "      <td>60</td>\n",
       "      <td>24</td>\n",
       "      <td>NaN</td>\n",
       "      <td>NaN</td>\n",
       "      <td>187</td>\n",
       "    </tr>\n",
       "    <tr>\n",
       "      <th>top</th>\n",
       "      <td>NaN</td>\n",
       "      <td>?</td>\n",
       "      <td>toyota</td>\n",
       "      <td>gas</td>\n",
       "      <td>std</td>\n",
       "      <td>four</td>\n",
       "      <td>sedan</td>\n",
       "      <td>fwd</td>\n",
       "      <td>front</td>\n",
       "      <td>NaN</td>\n",
       "      <td>...</td>\n",
       "      <td>NaN</td>\n",
       "      <td>mpfi</td>\n",
       "      <td>3.62</td>\n",
       "      <td>3.40</td>\n",
       "      <td>NaN</td>\n",
       "      <td>68</td>\n",
       "      <td>5500</td>\n",
       "      <td>NaN</td>\n",
       "      <td>NaN</td>\n",
       "      <td>?</td>\n",
       "    </tr>\n",
       "    <tr>\n",
       "      <th>freq</th>\n",
       "      <td>NaN</td>\n",
       "      <td>41</td>\n",
       "      <td>32</td>\n",
       "      <td>185</td>\n",
       "      <td>168</td>\n",
       "      <td>114</td>\n",
       "      <td>96</td>\n",
       "      <td>120</td>\n",
       "      <td>202</td>\n",
       "      <td>NaN</td>\n",
       "      <td>...</td>\n",
       "      <td>NaN</td>\n",
       "      <td>94</td>\n",
       "      <td>23</td>\n",
       "      <td>20</td>\n",
       "      <td>NaN</td>\n",
       "      <td>19</td>\n",
       "      <td>37</td>\n",
       "      <td>NaN</td>\n",
       "      <td>NaN</td>\n",
       "      <td>4</td>\n",
       "    </tr>\n",
       "    <tr>\n",
       "      <th>mean</th>\n",
       "      <td>0.834146</td>\n",
       "      <td>NaN</td>\n",
       "      <td>NaN</td>\n",
       "      <td>NaN</td>\n",
       "      <td>NaN</td>\n",
       "      <td>NaN</td>\n",
       "      <td>NaN</td>\n",
       "      <td>NaN</td>\n",
       "      <td>NaN</td>\n",
       "      <td>98.756585</td>\n",
       "      <td>...</td>\n",
       "      <td>126.907317</td>\n",
       "      <td>NaN</td>\n",
       "      <td>NaN</td>\n",
       "      <td>NaN</td>\n",
       "      <td>10.142537</td>\n",
       "      <td>NaN</td>\n",
       "      <td>NaN</td>\n",
       "      <td>25.219512</td>\n",
       "      <td>30.751220</td>\n",
       "      <td>NaN</td>\n",
       "    </tr>\n",
       "    <tr>\n",
       "      <th>std</th>\n",
       "      <td>1.245307</td>\n",
       "      <td>NaN</td>\n",
       "      <td>NaN</td>\n",
       "      <td>NaN</td>\n",
       "      <td>NaN</td>\n",
       "      <td>NaN</td>\n",
       "      <td>NaN</td>\n",
       "      <td>NaN</td>\n",
       "      <td>NaN</td>\n",
       "      <td>6.021776</td>\n",
       "      <td>...</td>\n",
       "      <td>41.642693</td>\n",
       "      <td>NaN</td>\n",
       "      <td>NaN</td>\n",
       "      <td>NaN</td>\n",
       "      <td>3.972040</td>\n",
       "      <td>NaN</td>\n",
       "      <td>NaN</td>\n",
       "      <td>6.542142</td>\n",
       "      <td>6.886443</td>\n",
       "      <td>NaN</td>\n",
       "    </tr>\n",
       "    <tr>\n",
       "      <th>min</th>\n",
       "      <td>-2.000000</td>\n",
       "      <td>NaN</td>\n",
       "      <td>NaN</td>\n",
       "      <td>NaN</td>\n",
       "      <td>NaN</td>\n",
       "      <td>NaN</td>\n",
       "      <td>NaN</td>\n",
       "      <td>NaN</td>\n",
       "      <td>NaN</td>\n",
       "      <td>86.600000</td>\n",
       "      <td>...</td>\n",
       "      <td>61.000000</td>\n",
       "      <td>NaN</td>\n",
       "      <td>NaN</td>\n",
       "      <td>NaN</td>\n",
       "      <td>7.000000</td>\n",
       "      <td>NaN</td>\n",
       "      <td>NaN</td>\n",
       "      <td>13.000000</td>\n",
       "      <td>16.000000</td>\n",
       "      <td>NaN</td>\n",
       "    </tr>\n",
       "    <tr>\n",
       "      <th>25%</th>\n",
       "      <td>0.000000</td>\n",
       "      <td>NaN</td>\n",
       "      <td>NaN</td>\n",
       "      <td>NaN</td>\n",
       "      <td>NaN</td>\n",
       "      <td>NaN</td>\n",
       "      <td>NaN</td>\n",
       "      <td>NaN</td>\n",
       "      <td>NaN</td>\n",
       "      <td>94.500000</td>\n",
       "      <td>...</td>\n",
       "      <td>97.000000</td>\n",
       "      <td>NaN</td>\n",
       "      <td>NaN</td>\n",
       "      <td>NaN</td>\n",
       "      <td>8.600000</td>\n",
       "      <td>NaN</td>\n",
       "      <td>NaN</td>\n",
       "      <td>19.000000</td>\n",
       "      <td>25.000000</td>\n",
       "      <td>NaN</td>\n",
       "    </tr>\n",
       "    <tr>\n",
       "      <th>50%</th>\n",
       "      <td>1.000000</td>\n",
       "      <td>NaN</td>\n",
       "      <td>NaN</td>\n",
       "      <td>NaN</td>\n",
       "      <td>NaN</td>\n",
       "      <td>NaN</td>\n",
       "      <td>NaN</td>\n",
       "      <td>NaN</td>\n",
       "      <td>NaN</td>\n",
       "      <td>97.000000</td>\n",
       "      <td>...</td>\n",
       "      <td>120.000000</td>\n",
       "      <td>NaN</td>\n",
       "      <td>NaN</td>\n",
       "      <td>NaN</td>\n",
       "      <td>9.000000</td>\n",
       "      <td>NaN</td>\n",
       "      <td>NaN</td>\n",
       "      <td>24.000000</td>\n",
       "      <td>30.000000</td>\n",
       "      <td>NaN</td>\n",
       "    </tr>\n",
       "    <tr>\n",
       "      <th>75%</th>\n",
       "      <td>2.000000</td>\n",
       "      <td>NaN</td>\n",
       "      <td>NaN</td>\n",
       "      <td>NaN</td>\n",
       "      <td>NaN</td>\n",
       "      <td>NaN</td>\n",
       "      <td>NaN</td>\n",
       "      <td>NaN</td>\n",
       "      <td>NaN</td>\n",
       "      <td>102.400000</td>\n",
       "      <td>...</td>\n",
       "      <td>141.000000</td>\n",
       "      <td>NaN</td>\n",
       "      <td>NaN</td>\n",
       "      <td>NaN</td>\n",
       "      <td>9.400000</td>\n",
       "      <td>NaN</td>\n",
       "      <td>NaN</td>\n",
       "      <td>30.000000</td>\n",
       "      <td>34.000000</td>\n",
       "      <td>NaN</td>\n",
       "    </tr>\n",
       "    <tr>\n",
       "      <th>max</th>\n",
       "      <td>3.000000</td>\n",
       "      <td>NaN</td>\n",
       "      <td>NaN</td>\n",
       "      <td>NaN</td>\n",
       "      <td>NaN</td>\n",
       "      <td>NaN</td>\n",
       "      <td>NaN</td>\n",
       "      <td>NaN</td>\n",
       "      <td>NaN</td>\n",
       "      <td>120.900000</td>\n",
       "      <td>...</td>\n",
       "      <td>326.000000</td>\n",
       "      <td>NaN</td>\n",
       "      <td>NaN</td>\n",
       "      <td>NaN</td>\n",
       "      <td>23.000000</td>\n",
       "      <td>NaN</td>\n",
       "      <td>NaN</td>\n",
       "      <td>49.000000</td>\n",
       "      <td>54.000000</td>\n",
       "      <td>NaN</td>\n",
       "    </tr>\n",
       "  </tbody>\n",
       "</table>\n",
       "<p>11 rows × 26 columns</p>\n",
       "</div>"
      ],
      "text/plain": [
       "         symboling normalized-losses    make fuel-type aspiration  \\\n",
       "count   205.000000               205     205       205        205   \n",
       "unique         NaN                52      22         2          2   \n",
       "top            NaN                 ?  toyota       gas        std   \n",
       "freq           NaN                41      32       185        168   \n",
       "mean      0.834146               NaN     NaN       NaN        NaN   \n",
       "std       1.245307               NaN     NaN       NaN        NaN   \n",
       "min      -2.000000               NaN     NaN       NaN        NaN   \n",
       "25%       0.000000               NaN     NaN       NaN        NaN   \n",
       "50%       1.000000               NaN     NaN       NaN        NaN   \n",
       "75%       2.000000               NaN     NaN       NaN        NaN   \n",
       "max       3.000000               NaN     NaN       NaN        NaN   \n",
       "\n",
       "       num-of-doors body-style drive-wheels engine-location  wheel-base  ...  \\\n",
       "count           205        205          205             205  205.000000  ...   \n",
       "unique            3          5            3               2         NaN  ...   \n",
       "top            four      sedan          fwd           front         NaN  ...   \n",
       "freq            114         96          120             202         NaN  ...   \n",
       "mean            NaN        NaN          NaN             NaN   98.756585  ...   \n",
       "std             NaN        NaN          NaN             NaN    6.021776  ...   \n",
       "min             NaN        NaN          NaN             NaN   86.600000  ...   \n",
       "25%             NaN        NaN          NaN             NaN   94.500000  ...   \n",
       "50%             NaN        NaN          NaN             NaN   97.000000  ...   \n",
       "75%             NaN        NaN          NaN             NaN  102.400000  ...   \n",
       "max             NaN        NaN          NaN             NaN  120.900000  ...   \n",
       "\n",
       "        engine-size  fuel-system  bore  stroke compression-ratio horsepower  \\\n",
       "count    205.000000          205   205     205        205.000000        205   \n",
       "unique          NaN            8    39      37               NaN         60   \n",
       "top             NaN         mpfi  3.62    3.40               NaN         68   \n",
       "freq            NaN           94    23      20               NaN         19   \n",
       "mean     126.907317          NaN   NaN     NaN         10.142537        NaN   \n",
       "std       41.642693          NaN   NaN     NaN          3.972040        NaN   \n",
       "min       61.000000          NaN   NaN     NaN          7.000000        NaN   \n",
       "25%       97.000000          NaN   NaN     NaN          8.600000        NaN   \n",
       "50%      120.000000          NaN   NaN     NaN          9.000000        NaN   \n",
       "75%      141.000000          NaN   NaN     NaN          9.400000        NaN   \n",
       "max      326.000000          NaN   NaN     NaN         23.000000        NaN   \n",
       "\n",
       "        peak-rpm    city-mpg highway-mpg price  \n",
       "count        205  205.000000  205.000000   205  \n",
       "unique        24         NaN         NaN   187  \n",
       "top         5500         NaN         NaN     ?  \n",
       "freq          37         NaN         NaN     4  \n",
       "mean         NaN   25.219512   30.751220   NaN  \n",
       "std          NaN    6.542142    6.886443   NaN  \n",
       "min          NaN   13.000000   16.000000   NaN  \n",
       "25%          NaN   19.000000   25.000000   NaN  \n",
       "50%          NaN   24.000000   30.000000   NaN  \n",
       "75%          NaN   30.000000   34.000000   NaN  \n",
       "max          NaN   49.000000   54.000000   NaN  \n",
       "\n",
       "[11 rows x 26 columns]"
      ]
     },
     "execution_count": 438,
     "metadata": {},
     "output_type": "execute_result"
    }
   ],
   "source": [
    "df.describe(include='all')"
   ]
  },
  {
   "cell_type": "code",
   "execution_count": 439,
   "metadata": {
    "execution": {
     "iopub.execute_input": "2022-05-13T13:50:44.325995Z",
     "iopub.status.busy": "2022-05-13T13:50:44.325587Z",
     "iopub.status.idle": "2022-05-13T13:50:44.338248Z",
     "shell.execute_reply": "2022-05-13T13:50:44.336442Z",
     "shell.execute_reply.started": "2022-05-13T13:50:44.325957Z"
    },
    "tags": []
   },
   "outputs": [
    {
     "data": {
      "text/plain": [
       "symboling            0\n",
       "normalized-losses    0\n",
       "make                 0\n",
       "fuel-type            0\n",
       "aspiration           0\n",
       "num-of-doors         0\n",
       "body-style           0\n",
       "drive-wheels         0\n",
       "engine-location      0\n",
       "wheel-base           0\n",
       "length               0\n",
       "width                0\n",
       "height               0\n",
       "curb-weight          0\n",
       "engine-type          0\n",
       "num-of-cylinders     0\n",
       "engine-size          0\n",
       "fuel-system          0\n",
       "bore                 0\n",
       "stroke               0\n",
       "compression-ratio    0\n",
       "horsepower           0\n",
       "peak-rpm             0\n",
       "city-mpg             0\n",
       "highway-mpg          0\n",
       "price                0\n",
       "dtype: int64"
      ]
     },
     "execution_count": 439,
     "metadata": {},
     "output_type": "execute_result"
    }
   ],
   "source": [
    "# tìm null trong tập dữ liệu\n",
    "df.isnull().sum()"
   ]
  },
  {
   "cell_type": "code",
   "execution_count": 440,
   "metadata": {
    "execution": {
     "iopub.execute_input": "2022-05-13T13:50:44.342420Z",
     "iopub.status.busy": "2022-05-13T13:50:44.342109Z",
     "iopub.status.idle": "2022-05-13T13:50:44.360162Z",
     "shell.execute_reply": "2022-05-13T13:50:44.359256Z",
     "shell.execute_reply.started": "2022-05-13T13:50:44.342386Z"
    },
    "tags": []
   },
   "outputs": [
    {
     "name": "stdout",
     "output_type": "stream",
     "text": [
      "symboling [ 3  1  2  0 -1 -2]\n",
      "normalized-losses ['?' '164' '158' '192' '188' '121' '98' '81' '118' '148']\n",
      "make ['alfa-romero' 'audi' 'bmw' 'chevrolet' 'dodge' 'honda' 'isuzu' 'jaguar'\n",
      " 'mazda' 'mercedes-benz']\n",
      "fuel-type ['gas' 'diesel']\n",
      "aspiration ['std' 'turbo']\n",
      "num-of-doors ['two' 'four' '?']\n",
      "body-style ['convertible' 'hatchback' 'sedan' 'wagon' 'hardtop']\n",
      "drive-wheels ['rwd' 'fwd' '4wd']\n",
      "engine-location ['front' 'rear']\n",
      "wheel-base [ 88.6  94.5  99.8  99.4 105.8  99.5 101.2 103.5 110.   88.4]\n",
      "length [168.8 171.2 176.6 177.3 192.7 178.2 176.8 189.  193.8 197. ]\n",
      "width [64.1 65.5 66.2 66.4 66.3 71.4 67.9 64.8 66.9 70.9]\n",
      "height [48.8 52.4 54.3 53.1 55.7 55.9 52.  53.7 56.3 53.2]\n",
      "curb-weight [2548 2823 2337 2824 2507 2844 2954 3086 3053 2395]\n",
      "engine-type ['dohc' 'ohcv' 'ohc' 'l' 'rotor' 'ohcf' 'dohcv']\n",
      "num-of-cylinders ['four' 'six' 'five' 'three' 'twelve' 'two' 'eight']\n",
      "engine-size [130 152 109 136 131 108 164 209  61  90]\n",
      "fuel-system ['mpfi' '2bbl' 'mfi' '1bbl' 'spfi' '4bbl' 'idi' 'spdi']\n",
      "bore ['3.47' '2.68' '3.19' '3.13' '3.50' '3.31' '3.62' '2.91' '3.03' '2.97']\n",
      "stroke ['2.68' '3.47' '3.40' '2.80' '3.19' '3.39' '3.03' '3.11' '3.23' '3.46']\n",
      "compression-ratio [ 9.   10.    8.    8.5   8.3   7.    8.8   9.5   9.6   9.41]\n",
      "horsepower ['111' '154' '102' '115' '110' '140' '160' '101' '121' '182']\n",
      "peak-rpm ['5000' '5500' '5800' '4250' '5400' '5100' '4800' '6000' '4750' '4650']\n",
      "city-mpg [21 19 24 18 17 16 23 20 15 47]\n",
      "highway-mpg [27 26 30 22 25 20 29 28 53 43]\n",
      "price ['13495' '16500' '13950' '17450' '15250' '17710' '18920' '23875' '?'\n",
      " '16430']\n"
     ]
    }
   ],
   "source": [
    "for m in columns_names:\n",
    "    print(m,df[m].unique()[:10])\n",
    "# kiểm tra lại tên cột"
   ]
  },
  {
   "cell_type": "code",
   "execution_count": 441,
   "metadata": {
    "execution": {
     "iopub.execute_input": "2022-05-13T13:50:44.369474Z",
     "iopub.status.busy": "2022-05-13T13:50:44.368923Z",
     "iopub.status.idle": "2022-05-13T13:50:44.742745Z",
     "shell.execute_reply": "2022-05-13T13:50:44.741569Z",
     "shell.execute_reply.started": "2022-05-13T13:50:44.369438Z"
    },
    "tags": []
   },
   "outputs": [
    {
     "data": {
      "image/png": "[encoded data removed]",
      "text/plain": [
       "<Figure size 720x360 with 1 Axes>"
      ]
     },
     "metadata": {
      "needs_background": "light"
     },
     "output_type": "display_data"
    }
   ],
   "source": [
    "# Tìm các \"?\"\n",
    "plt.figure(figsize=(10,5))\n",
    "(df == '?').sum().sort_values().plot.bar()\n",
    "plt.title('Các biến có \"?\"')\n",
    "plt.show()"
   ]
  },
  {
   "cell_type": "markdown",
   "metadata": {},
   "source": [
    "- Một số cột có chứa \"?\".\n",
    "- Trong đó cột normalized-losses có nhiều nhất <br>\n",
    "Tiến hành thay \"?\" bằng NaN"
   ]
  },
  {
   "cell_type": "code",
   "execution_count": 442,
   "metadata": {
    "execution": {
     "iopub.execute_input": "2022-05-13T13:50:44.745152Z",
     "iopub.status.busy": "2022-05-13T13:50:44.744685Z",
     "iopub.status.idle": "2022-05-13T13:50:44.765929Z",
     "shell.execute_reply": "2022-05-13T13:50:44.764819Z",
     "shell.execute_reply.started": "2022-05-13T13:50:44.745115Z"
    },
    "tags": []
   },
   "outputs": [
    {
     "name": "stdout",
     "output_type": "stream",
     "text": [
      "normalized-losses object\n",
      "num-of-doors object\n",
      "bore object\n",
      "stroke object\n",
      "horsepower object\n",
      "peak-rpm object\n",
      "price object\n"
     ]
    }
   ],
   "source": [
    "for m in columns_names:\n",
    "    if '?' in df[m].unique():\n",
    "        print(m,df[m].dtype)\n",
    "        df[m]=df[m].replace({'?':np.nan})"
   ]
  },
  {
   "cell_type": "code",
   "execution_count": 443,
   "metadata": {
    "execution": {
     "iopub.execute_input": "2022-05-13T13:50:44.768617Z",
     "iopub.status.busy": "2022-05-13T13:50:44.768039Z",
     "iopub.status.idle": "2022-05-13T13:50:44.781837Z",
     "shell.execute_reply": "2022-05-13T13:50:44.780723Z",
     "shell.execute_reply.started": "2022-05-13T13:50:44.768578Z"
    },
    "tags": []
   },
   "outputs": [
    {
     "name": "stdout",
     "output_type": "stream",
     "text": [
      "<class 'pandas.core.frame.DataFrame'>\n",
      "RangeIndex: 205 entries, 0 to 204\n",
      "Data columns (total 26 columns):\n",
      " #   Column             Non-Null Count  Dtype  \n",
      "---  ------             --------------  -----  \n",
      " 0   symboling          205 non-null    int64  \n",
      " 1   normalized-losses  164 non-null    object \n",
      " 2   make               205 non-null    object \n",
      " 3   fuel-type          205 non-null    object \n",
      " 4   aspiration         205 non-null    object \n",
      " 5   num-of-doors       203 non-null    object \n",
      " 6   body-style         205 non-null    object \n",
      " 7   drive-wheels       205 non-null    object \n",
      " 8   engine-location    205 non-null    object \n",
      " 9   wheel-base         205 non-null    float64\n",
      " 10  length             205 non-null    float64\n",
      " 11  width              205 non-null    float64\n",
      " 12  height             205 non-null    float64\n",
      " 13  curb-weight        205 non-null    int64  \n",
      " 14  engine-type        205 non-null    object \n",
      " 15  num-of-cylinders   205 non-null    object \n",
      " 16  engine-size        205 non-null    int64  \n",
      " 17  fuel-system        205 non-null    object \n",
      " 18  bore               201 non-null    object \n",
      " 19  stroke             201 non-null    object \n",
      " 20  compression-ratio  205 non-null    float64\n",
      " 21  horsepower         203 non-null    object \n",
      " 22  peak-rpm           203 non-null    object \n",
      " 23  city-mpg           205 non-null    int64  \n",
      " 24  highway-mpg        205 non-null    int64  \n",
      " 25  price              201 non-null    object \n",
      "dtypes: float64(5), int64(5), object(16)\n",
      "memory usage: 41.8+ KB\n"
     ]
    }
   ],
   "source": [
    "df.info()"
   ]
  },
  {
   "cell_type": "markdown",
   "metadata": {},
   "source": [
    "#### Kiểm tra các cột có null"
   ]
  },
  {
   "cell_type": "code",
   "execution_count": 444,
   "metadata": {
    "execution": {
     "iopub.execute_input": "2022-05-13T13:50:44.784545Z",
     "iopub.status.busy": "2022-05-13T13:50:44.783836Z",
     "iopub.status.idle": "2022-05-13T13:50:44.794760Z",
     "shell.execute_reply": "2022-05-13T13:50:44.793649Z",
     "shell.execute_reply.started": "2022-05-13T13:50:44.784489Z"
    },
    "tags": []
   },
   "outputs": [
    {
     "name": "stdout",
     "output_type": "stream",
     "text": [
      "0    four\n",
      "dtype: object\n"
     ]
    },
    {
     "data": {
      "text/plain": [
       "array(['two', 'four', nan], dtype=object)"
      ]
     },
     "execution_count": 444,
     "metadata": {},
     "output_type": "execute_result"
    }
   ],
   "source": [
    "# kiểm cột num-of-doors\n",
    "print(df['num-of-doors'].mode())\n",
    "df['num-of-doors'].unique()"
   ]
  },
  {
   "cell_type": "code",
   "execution_count": 445,
   "metadata": {
    "execution": {
     "iopub.execute_input": "2022-05-13T13:50:44.801772Z",
     "iopub.status.busy": "2022-05-13T13:50:44.801396Z",
     "iopub.status.idle": "2022-05-13T13:50:44.809214Z",
     "shell.execute_reply": "2022-05-13T13:50:44.807990Z",
     "shell.execute_reply.started": "2022-05-13T13:50:44.801735Z"
    },
    "tags": []
   },
   "outputs": [],
   "source": [
    "# Thay các giá trị NaN của num-of-doors bằng Mode của num-of-doors\n",
    "df['num-of-doors']= df['num-of-doors'].fillna(df['num-of-doors'].mode()[0])"
   ]
  },
  {
   "cell_type": "code",
   "execution_count": 446,
   "metadata": {
    "execution": {
     "iopub.execute_input": "2022-05-13T13:50:44.815744Z",
     "iopub.status.busy": "2022-05-13T13:50:44.815203Z",
     "iopub.status.idle": "2022-05-13T13:50:44.823796Z",
     "shell.execute_reply": "2022-05-13T13:50:44.822750Z",
     "shell.execute_reply.started": "2022-05-13T13:50:44.815664Z"
    },
    "tags": []
   },
   "outputs": [
    {
     "data": {
      "text/plain": [
       "array(['two', 'four'], dtype=object)"
      ]
     },
     "execution_count": 446,
     "metadata": {},
     "output_type": "execute_result"
    }
   ],
   "source": [
    "df['num-of-doors'].unique()"
   ]
  },
  {
   "cell_type": "code",
   "execution_count": 447,
   "metadata": {
    "execution": {
     "iopub.execute_input": "2022-05-13T13:50:44.826022Z",
     "iopub.status.busy": "2022-05-13T13:50:44.825451Z",
     "iopub.status.idle": "2022-05-13T13:50:44.834223Z",
     "shell.execute_reply": "2022-05-13T13:50:44.833159Z",
     "shell.execute_reply.started": "2022-05-13T13:50:44.825982Z"
    },
    "tags": []
   },
   "outputs": [
    {
     "data": {
      "text/plain": [
       "array([nan, '164', '158', '192', '188', '121', '98', '81', '118', '148',\n",
       "       '110', '145', '137', '101', '78', '106', '85', '107', '104', '113',\n",
       "       '150', '129', '115', '93', '142', '161', '153', '125', '128',\n",
       "       '122', '103', '168', '108', '194', '231', '119', '154', '74',\n",
       "       '186', '83', '102', '89', '87', '77', '91', '134', '65', '197',\n",
       "       '90', '94', '256', '95'], dtype=object)"
      ]
     },
     "execution_count": 447,
     "metadata": {},
     "output_type": "execute_result"
    }
   ],
   "source": [
    "df['normalized-losses'].unique()"
   ]
  },
  {
   "cell_type": "code",
   "execution_count": 448,
   "metadata": {
    "execution": {
     "iopub.execute_input": "2022-05-13T13:50:44.836863Z",
     "iopub.status.busy": "2022-05-13T13:50:44.836305Z",
     "iopub.status.idle": "2022-05-13T13:50:44.844790Z",
     "shell.execute_reply": "2022-05-13T13:50:44.843594Z",
     "shell.execute_reply.started": "2022-05-13T13:50:44.836824Z"
    },
    "tags": []
   },
   "outputs": [],
   "source": [
    "df['normalized-losses']= df['normalized-losses'].fillna(df['normalized-losses'].mode()[0])"
   ]
  },
  {
   "cell_type": "code",
   "execution_count": 449,
   "metadata": {
    "execution": {
     "iopub.execute_input": "2022-05-13T13:50:44.847311Z",
     "iopub.status.busy": "2022-05-13T13:50:44.846737Z",
     "iopub.status.idle": "2022-05-13T13:50:44.858433Z",
     "shell.execute_reply": "2022-05-13T13:50:44.857421Z",
     "shell.execute_reply.started": "2022-05-13T13:50:44.847272Z"
    },
    "tags": []
   },
   "outputs": [
    {
     "data": {
      "text/plain": [
       "symboling            0\n",
       "normalized-losses    0\n",
       "make                 0\n",
       "fuel-type            0\n",
       "aspiration           0\n",
       "num-of-doors         0\n",
       "body-style           0\n",
       "drive-wheels         0\n",
       "engine-location      0\n",
       "wheel-base           0\n",
       "length               0\n",
       "width                0\n",
       "height               0\n",
       "curb-weight          0\n",
       "engine-type          0\n",
       "num-of-cylinders     0\n",
       "engine-size          0\n",
       "fuel-system          0\n",
       "bore                 4\n",
       "stroke               4\n",
       "compression-ratio    0\n",
       "horsepower           2\n",
       "peak-rpm             2\n",
       "city-mpg             0\n",
       "highway-mpg          0\n",
       "price                4\n",
       "dtype: int64"
      ]
     },
     "execution_count": 449,
     "metadata": {},
     "output_type": "execute_result"
    }
   ],
   "source": [
    "df.isnull().sum()"
   ]
  },
  {
   "cell_type": "code",
   "execution_count": 450,
   "metadata": {
    "execution": {
     "iopub.execute_input": "2022-05-13T13:50:44.860670Z",
     "iopub.status.busy": "2022-05-13T13:50:44.859971Z",
     "iopub.status.idle": "2022-05-13T13:50:44.868915Z",
     "shell.execute_reply": "2022-05-13T13:50:44.867559Z",
     "shell.execute_reply.started": "2022-05-13T13:50:44.860631Z"
    },
    "tags": []
   },
   "outputs": [
    {
     "data": {
      "text/plain": [
       "array(['3.47', '2.68', '3.19', '3.13', '3.50', '3.31', '3.62', '2.91',\n",
       "       '3.03', '2.97', '3.34', '3.60', '2.92', '3.15', '3.43', '3.63',\n",
       "       '3.54', '3.08', nan, '3.39', '3.76', '3.58', '3.46', '3.80',\n",
       "       '3.78', '3.17', '3.35', '3.59', '2.99', '3.33', '3.70', '3.61',\n",
       "       '3.94', '3.74', '2.54', '3.05', '3.27', '3.24', '3.01'],\n",
       "      dtype=object)"
      ]
     },
     "execution_count": 450,
     "metadata": {},
     "output_type": "execute_result"
    }
   ],
   "source": [
    "df['bore'].unique()"
   ]
  },
  {
   "cell_type": "code",
   "execution_count": 451,
   "metadata": {
    "execution": {
     "iopub.execute_input": "2022-05-13T13:50:44.872041Z",
     "iopub.status.busy": "2022-05-13T13:50:44.871399Z",
     "iopub.status.idle": "2022-05-13T13:50:44.879187Z",
     "shell.execute_reply": "2022-05-13T13:50:44.878289Z",
     "shell.execute_reply.started": "2022-05-13T13:50:44.872002Z"
    },
    "tags": []
   },
   "outputs": [],
   "source": [
    "df['bore'].mode()\n",
    "df['bore']= df['bore'].fillna(df['bore'].mode()[0])"
   ]
  },
  {
   "cell_type": "code",
   "execution_count": 452,
   "metadata": {
    "execution": {
     "iopub.execute_input": "2022-05-13T13:50:44.881373Z",
     "iopub.status.busy": "2022-05-13T13:50:44.880902Z",
     "iopub.status.idle": "2022-05-13T13:50:44.887924Z",
     "shell.execute_reply": "2022-05-13T13:50:44.886656Z",
     "shell.execute_reply.started": "2022-05-13T13:50:44.881331Z"
    },
    "tags": []
   },
   "outputs": [],
   "source": [
    "df['stroke']= df['stroke'].fillna(df['stroke'].mode()[0])"
   ]
  },
  {
   "cell_type": "code",
   "execution_count": 453,
   "metadata": {
    "execution": {
     "iopub.execute_input": "2022-05-13T13:50:44.890473Z",
     "iopub.status.busy": "2022-05-13T13:50:44.890109Z",
     "iopub.status.idle": "2022-05-13T13:50:44.897984Z",
     "shell.execute_reply": "2022-05-13T13:50:44.897048Z",
     "shell.execute_reply.started": "2022-05-13T13:50:44.890436Z"
    },
    "tags": []
   },
   "outputs": [
    {
     "data": {
      "text/plain": [
       "0    68\n",
       "dtype: object"
      ]
     },
     "execution_count": 453,
     "metadata": {},
     "output_type": "execute_result"
    }
   ],
   "source": [
    "df['horsepower'].mode()"
   ]
  },
  {
   "cell_type": "code",
   "execution_count": 454,
   "metadata": {
    "execution": {
     "iopub.execute_input": "2022-05-13T13:50:44.900279Z",
     "iopub.status.busy": "2022-05-13T13:50:44.899862Z",
     "iopub.status.idle": "2022-05-13T13:50:44.910373Z",
     "shell.execute_reply": "2022-05-13T13:50:44.909016Z",
     "shell.execute_reply.started": "2022-05-13T13:50:44.900236Z"
    },
    "tags": []
   },
   "outputs": [],
   "source": [
    "df['horsepower']= df['horsepower'].fillna(df['horsepower'].mode()[0])\n",
    "df['peak-rpm']= df['peak-rpm'].fillna(df['peak-rpm'].mode()[0])\n",
    "df['price']= df['price'].fillna(df['price'].mode()[0])"
   ]
  },
  {
   "cell_type": "code",
   "execution_count": 455,
   "metadata": {
    "execution": {
     "iopub.execute_input": "2022-05-13T13:50:44.912926Z",
     "iopub.status.busy": "2022-05-13T13:50:44.912527Z",
     "iopub.status.idle": "2022-05-13T13:50:44.922478Z",
     "shell.execute_reply": "2022-05-13T13:50:44.921708Z",
     "shell.execute_reply.started": "2022-05-13T13:50:44.912889Z"
    },
    "tags": []
   },
   "outputs": [
    {
     "data": {
      "text/plain": [
       "symboling            0\n",
       "normalized-losses    0\n",
       "make                 0\n",
       "fuel-type            0\n",
       "aspiration           0\n",
       "num-of-doors         0\n",
       "body-style           0\n",
       "drive-wheels         0\n",
       "engine-location      0\n",
       "wheel-base           0\n",
       "length               0\n",
       "width                0\n",
       "height               0\n",
       "curb-weight          0\n",
       "engine-type          0\n",
       "num-of-cylinders     0\n",
       "engine-size          0\n",
       "fuel-system          0\n",
       "bore                 0\n",
       "stroke               0\n",
       "compression-ratio    0\n",
       "horsepower           0\n",
       "peak-rpm             0\n",
       "city-mpg             0\n",
       "highway-mpg          0\n",
       "price                0\n",
       "dtype: int64"
      ]
     },
     "execution_count": 455,
     "metadata": {},
     "output_type": "execute_result"
    }
   ],
   "source": [
    "df.isnull().sum()"
   ]
  },
  {
   "cell_type": "code",
   "execution_count": 456,
   "metadata": {
    "execution": {
     "iopub.execute_input": "2022-05-13T13:50:44.924504Z",
     "iopub.status.busy": "2022-05-13T13:50:44.924201Z",
     "iopub.status.idle": "2022-05-13T13:50:44.940585Z",
     "shell.execute_reply": "2022-05-13T13:50:44.939566Z",
     "shell.execute_reply.started": "2022-05-13T13:50:44.924468Z"
    },
    "tags": []
   },
   "outputs": [
    {
     "name": "stdout",
     "output_type": "stream",
     "text": [
      "<class 'pandas.core.frame.DataFrame'>\n",
      "RangeIndex: 205 entries, 0 to 204\n",
      "Data columns (total 26 columns):\n",
      " #   Column             Non-Null Count  Dtype  \n",
      "---  ------             --------------  -----  \n",
      " 0   symboling          205 non-null    int64  \n",
      " 1   normalized-losses  205 non-null    object \n",
      " 2   make               205 non-null    object \n",
      " 3   fuel-type          205 non-null    object \n",
      " 4   aspiration         205 non-null    object \n",
      " 5   num-of-doors       205 non-null    object \n",
      " 6   body-style         205 non-null    object \n",
      " 7   drive-wheels       205 non-null    object \n",
      " 8   engine-location    205 non-null    object \n",
      " 9   wheel-base         205 non-null    float64\n",
      " 10  length             205 non-null    float64\n",
      " 11  width              205 non-null    float64\n",
      " 12  height             205 non-null    float64\n",
      " 13  curb-weight        205 non-null    int64  \n",
      " 14  engine-type        205 non-null    object \n",
      " 15  num-of-cylinders   205 non-null    object \n",
      " 16  engine-size        205 non-null    int64  \n",
      " 17  fuel-system        205 non-null    object \n",
      " 18  bore               205 non-null    object \n",
      " 19  stroke             205 non-null    object \n",
      " 20  compression-ratio  205 non-null    float64\n",
      " 21  horsepower         205 non-null    object \n",
      " 22  peak-rpm           205 non-null    object \n",
      " 23  city-mpg           205 non-null    int64  \n",
      " 24  highway-mpg        205 non-null    int64  \n",
      " 25  price              205 non-null    object \n",
      "dtypes: float64(5), int64(5), object(16)\n",
      "memory usage: 41.8+ KB\n"
     ]
    }
   ],
   "source": [
    "df.info()"
   ]
  },
  {
   "cell_type": "code",
   "execution_count": 457,
   "metadata": {
    "execution": {
     "iopub.execute_input": "2022-05-13T13:50:44.943261Z",
     "iopub.status.busy": "2022-05-13T13:50:44.942078Z",
     "iopub.status.idle": "2022-05-13T13:50:44.951565Z",
     "shell.execute_reply": "2022-05-13T13:50:44.950533Z",
     "shell.execute_reply.started": "2022-05-13T13:50:44.943215Z"
    },
    "tags": []
   },
   "outputs": [
    {
     "data": {
      "text/plain": [
       "dtype('int32')"
      ]
     },
     "execution_count": 457,
     "metadata": {},
     "output_type": "execute_result"
    }
   ],
   "source": [
    "df['horsepower'] = df['horsepower'].astype('int32')\n",
    "df['horsepower'].dtype"
   ]
  },
  {
   "cell_type": "code",
   "execution_count": 458,
   "metadata": {
    "execution": {
     "iopub.execute_input": "2022-05-13T13:50:44.953910Z",
     "iopub.status.busy": "2022-05-13T13:50:44.953377Z",
     "iopub.status.idle": "2022-05-13T13:50:44.962396Z",
     "shell.execute_reply": "2022-05-13T13:50:44.961440Z",
     "shell.execute_reply.started": "2022-05-13T13:50:44.953870Z"
    },
    "tags": []
   },
   "outputs": [
    {
     "data": {
      "text/plain": [
       "dtype('int32')"
      ]
     },
     "execution_count": 458,
     "metadata": {},
     "output_type": "execute_result"
    }
   ],
   "source": [
    "df['price'] = df['price'].astype('int32')\n",
    "df['price'].dtype"
   ]
  },
  {
   "cell_type": "markdown",
   "metadata": {},
   "source": [
    "#### Phân tích các biến"
   ]
  },
  {
   "cell_type": "markdown",
   "metadata": {},
   "source": [
    "##### Biến liên tục"
   ]
  },
  {
   "cell_type": "code",
   "execution_count": 459,
   "metadata": {
    "execution": {
     "iopub.execute_input": "2022-05-13T13:50:44.964689Z",
     "iopub.status.busy": "2022-05-13T13:50:44.964381Z",
     "iopub.status.idle": "2022-05-13T13:50:44.973671Z",
     "shell.execute_reply": "2022-05-13T13:50:44.972529Z",
     "shell.execute_reply.started": "2022-05-13T13:50:44.964664Z"
    },
    "tags": []
   },
   "outputs": [],
   "source": [
    "def Continuous(df, name):\n",
    "    plt.figure(figsize=(16,5))\n",
    "    plt.subplot(1,3,1)\n",
    "    plt.hist(df[name])\n",
    "    plt.subplot(1,3,2)\n",
    "    sns.distplot(df[name])\n",
    "    plt.subplot(1,3,3)\n",
    "    plt.boxplot(df[name])\n",
    "    plt.show()\n",
    "    return df[name].agg(['var','skew','kurtosis']), df[name].quantile([0.25, 0.5, 0.75, 0.95])"
   ]
  },
  {
   "cell_type": "code",
   "execution_count": 460,
   "metadata": {
    "execution": {
     "iopub.execute_input": "2022-05-13T13:50:44.985637Z",
     "iopub.status.busy": "2022-05-13T13:50:44.985054Z",
     "iopub.status.idle": "2022-05-13T13:50:45.396911Z",
     "shell.execute_reply": "2022-05-13T13:50:45.395641Z",
     "shell.execute_reply.started": "2022-05-13T13:50:44.985596Z"
    },
    "tags": []
   },
   "outputs": [
    {
     "data": {
      "image/png": "[encoded data removed]",
      "text/plain": [
       "<Figure size 1152x360 with 3 Axes>"
      ]
     },
     "metadata": {
      "needs_background": "light"
     },
     "output_type": "display_data"
    },
    {
     "data": {
      "text/plain": [
       "(var         1574.529651\n",
       " skew           1.400259\n",
       " kurtosis       2.643255\n",
       " Name: horsepower, dtype: float64,\n",
       " 0.25     70.0\n",
       " 0.50     95.0\n",
       " 0.75    116.0\n",
       " 0.95    180.8\n",
       " Name: horsepower, dtype: float64)"
      ]
     },
     "execution_count": 460,
     "metadata": {},
     "output_type": "execute_result"
    }
   ],
   "source": [
    "# phân tích biến horsepower\n",
    "Continuous(df, 'horsepower')"
   ]
  },
  {
   "cell_type": "code",
   "execution_count": 461,
   "metadata": {
    "execution": {
     "iopub.execute_input": "2022-05-13T13:50:45.402178Z",
     "iopub.status.busy": "2022-05-13T13:50:45.401755Z",
     "iopub.status.idle": "2022-05-13T13:50:45.407053Z",
     "shell.execute_reply": "2022-05-13T13:50:45.405956Z",
     "shell.execute_reply.started": "2022-05-13T13:50:45.402142Z"
    },
    "tags": []
   },
   "outputs": [],
   "source": [
    "# Phân phối lệch phải\n",
    "# Phân phối nhọn hơn phân phối chuẩn"
   ]
  },
  {
   "cell_type": "code",
   "execution_count": 462,
   "metadata": {
    "execution": {
     "iopub.execute_input": "2022-05-13T13:50:45.409304Z",
     "iopub.status.busy": "2022-05-13T13:50:45.408900Z",
     "iopub.status.idle": "2022-05-13T13:50:45.833212Z",
     "shell.execute_reply": "2022-05-13T13:50:45.832122Z",
     "shell.execute_reply.started": "2022-05-13T13:50:45.409266Z"
    },
    "tags": []
   },
   "outputs": [
    {
     "data": {
      "image/png": "[encoded data removed]",
      "text/plain": [
       "<Figure size 1152x360 with 3 Axes>"
      ]
     },
     "metadata": {
      "needs_background": "light"
     },
     "output_type": "display_data"
    },
    {
     "data": {
      "text/plain": [
       "(var         6.191915e+07\n",
       " skew        1.825060e+00\n",
       " kurtosis    3.348486e+00\n",
       " Name: price, dtype: float64,\n",
       " 0.25     7788.0\n",
       " 0.50    10595.0\n",
       " 0.75    16500.0\n",
       " 0.95    32472.4\n",
       " Name: price, dtype: float64)"
      ]
     },
     "execution_count": 462,
     "metadata": {},
     "output_type": "execute_result"
    }
   ],
   "source": [
    "# phân tích biến price\n",
    "Continuous(df, 'price')"
   ]
  },
  {
   "cell_type": "code",
   "execution_count": 463,
   "metadata": {
    "execution": {
     "iopub.execute_input": "2022-05-13T13:50:45.835359Z",
     "iopub.status.busy": "2022-05-13T13:50:45.834864Z",
     "iopub.status.idle": "2022-05-13T13:50:45.841389Z",
     "shell.execute_reply": "2022-05-13T13:50:45.840346Z",
     "shell.execute_reply.started": "2022-05-13T13:50:45.835257Z"
    },
    "tags": []
   },
   "outputs": [],
   "source": [
    "# Phân phối lệch phải\n",
    "# Phân phối nhọn hơn phân phối chuẩn"
   ]
  },
  {
   "cell_type": "markdown",
   "metadata": {},
   "source": [
    "##### Biến phân loại"
   ]
  },
  {
   "cell_type": "code",
   "execution_count": 464,
   "metadata": {
    "execution": {
     "iopub.execute_input": "2022-05-13T13:50:45.843745Z",
     "iopub.status.busy": "2022-05-13T13:50:45.843192Z",
     "iopub.status.idle": "2022-05-13T13:50:45.852422Z",
     "shell.execute_reply": "2022-05-13T13:50:45.851517Z",
     "shell.execute_reply.started": "2022-05-13T13:50:45.843704Z"
    },
    "tags": []
   },
   "outputs": [],
   "source": [
    "def Category(df, name, cont):\n",
    "    count = df[name].value_counts()\n",
    "    if cont:\n",
    "        plt.figure(figsize=(10,8))\n",
    "    count.sort_values().plot.bar()\n",
    "    plt.show()\n",
    "    return count"
   ]
  },
  {
   "cell_type": "code",
   "execution_count": 465,
   "metadata": {
    "execution": {
     "iopub.execute_input": "2022-05-13T13:50:45.854779Z",
     "iopub.status.busy": "2022-05-13T13:50:45.854404Z",
     "iopub.status.idle": "2022-05-13T13:50:46.132521Z",
     "shell.execute_reply": "2022-05-13T13:50:46.131449Z",
     "shell.execute_reply.started": "2022-05-13T13:50:45.854745Z"
    },
    "tags": []
   },
   "outputs": [
    {
     "data": {
      "image/png": "[encoded data removed]",
      "text/plain": [
       "<Figure size 720x576 with 1 Axes>"
      ]
     },
     "metadata": {
      "needs_background": "light"
     },
     "output_type": "display_data"
    },
    {
     "data": {
      "text/plain": [
       "toyota           32\n",
       "nissan           18\n",
       "mazda            17\n",
       "mitsubishi       13\n",
       "honda            13\n",
       "subaru           12\n",
       "volkswagen       12\n",
       "peugot           11\n",
       "volvo            11\n",
       "dodge             9\n",
       "bmw               8\n",
       "mercedes-benz     8\n",
       "audi              7\n",
       "plymouth          7\n",
       "saab              6\n",
       "porsche           5\n",
       "isuzu             4\n",
       "alfa-romero       3\n",
       "jaguar            3\n",
       "chevrolet         3\n",
       "renault           2\n",
       "mercury           1\n",
       "Name: make, dtype: int64"
      ]
     },
     "execution_count": 465,
     "metadata": {},
     "output_type": "execute_result"
    }
   ],
   "source": [
    "# Phân tích biến make\n",
    "Category(df, 'make', True)"
   ]
  },
  {
   "cell_type": "code",
   "execution_count": 466,
   "metadata": {
    "execution": {
     "iopub.execute_input": "2022-05-13T13:50:46.135370Z",
     "iopub.status.busy": "2022-05-13T13:50:46.134770Z",
     "iopub.status.idle": "2022-05-13T13:50:46.140393Z",
     "shell.execute_reply": "2022-05-13T13:50:46.139115Z",
     "shell.execute_reply.started": "2022-05-13T13:50:46.135326Z"
    },
    "tags": []
   },
   "outputs": [],
   "source": [
    "# make đại diện cho cái hãng xe.\n",
    "# Có tất cả 22 hãng trong đó các hãng xe đến từ nhật bản toyota, nissanm mazda chiếm tỉ trọng cao."
   ]
  },
  {
   "cell_type": "code",
   "execution_count": 467,
   "metadata": {
    "execution": {
     "iopub.execute_input": "2022-05-13T13:50:46.142567Z",
     "iopub.status.busy": "2022-05-13T13:50:46.142196Z",
     "iopub.status.idle": "2022-05-13T13:50:46.274934Z",
     "shell.execute_reply": "2022-05-13T13:50:46.273864Z",
     "shell.execute_reply.started": "2022-05-13T13:50:46.142531Z"
    },
    "tags": []
   },
   "outputs": [
    {
     "data": {
      "image/png": "[encoded data removed]",
      "text/plain": [
       "<Figure size 432x288 with 1 Axes>"
      ]
     },
     "metadata": {
      "needs_background": "light"
     },
     "output_type": "display_data"
    },
    {
     "data": {
      "text/plain": [
       "gas       185\n",
       "diesel     20\n",
       "Name: fuel-type, dtype: int64"
      ]
     },
     "execution_count": 467,
     "metadata": {},
     "output_type": "execute_result"
    }
   ],
   "source": [
    "# Phân tích biến fuel-type\n",
    "Category(df,'fuel-type', False)"
   ]
  },
  {
   "cell_type": "code",
   "execution_count": 468,
   "metadata": {
    "execution": {
     "iopub.execute_input": "2022-05-13T13:50:46.277411Z",
     "iopub.status.busy": "2022-05-13T13:50:46.276807Z",
     "iopub.status.idle": "2022-05-13T13:50:46.282484Z",
     "shell.execute_reply": "2022-05-13T13:50:46.281056Z",
     "shell.execute_reply.started": "2022-05-13T13:50:46.277372Z"
    },
    "tags": []
   },
   "outputs": [],
   "source": [
    "# có hai dòng nhiên liệu: diesel và gas.\n",
    "# Gas là loại nhiên liệu được các hãng xe ưu thích."
   ]
  },
  {
   "cell_type": "code",
   "execution_count": 469,
   "metadata": {
    "execution": {
     "iopub.execute_input": "2022-05-13T13:50:46.285178Z",
     "iopub.status.busy": "2022-05-13T13:50:46.284715Z",
     "iopub.status.idle": "2022-05-13T13:50:46.435784Z",
     "shell.execute_reply": "2022-05-13T13:50:46.434639Z",
     "shell.execute_reply.started": "2022-05-13T13:50:46.285139Z"
    },
    "tags": []
   },
   "outputs": [
    {
     "data": {
      "image/png": "[encoded data removed]",
      "text/plain": [
       "<Figure size 432x288 with 1 Axes>"
      ]
     },
     "metadata": {
      "needs_background": "light"
     },
     "output_type": "display_data"
    },
    {
     "data": {
      "text/plain": [
       " 0    67\n",
       " 1    54\n",
       " 2    32\n",
       " 3    27\n",
       "-1    22\n",
       "-2     3\n",
       "Name: symboling, dtype: int64"
      ]
     },
     "execution_count": 469,
     "metadata": {},
     "output_type": "execute_result"
    }
   ],
   "source": [
    "# Phân tích biến symboling\n",
    "Category(df,'symboling', False)"
   ]
  },
  {
   "cell_type": "code",
   "execution_count": 470,
   "metadata": {
    "execution": {
     "iopub.execute_input": "2022-05-13T13:50:46.437946Z",
     "iopub.status.busy": "2022-05-13T13:50:46.437299Z",
     "iopub.status.idle": "2022-05-13T13:50:46.442773Z",
     "shell.execute_reply": "2022-05-13T13:50:46.441131Z",
     "shell.execute_reply.started": "2022-05-13T13:50:46.437905Z"
    },
    "tags": []
   },
   "outputs": [],
   "source": [
    "# symboling thể hiện độ an toàn.#\n",
    "# Đa số các xe điều có độ an toàn ở mức trung bình."
   ]
  },
  {
   "cell_type": "code",
   "execution_count": 471,
   "metadata": {
    "execution": {
     "iopub.execute_input": "2022-05-13T13:50:46.445528Z",
     "iopub.status.busy": "2022-05-13T13:50:46.445092Z",
     "iopub.status.idle": "2022-05-13T13:50:46.585948Z",
     "shell.execute_reply": "2022-05-13T13:50:46.585044Z",
     "shell.execute_reply.started": "2022-05-13T13:50:46.445490Z"
    },
    "tags": []
   },
   "outputs": [
    {
     "data": {
      "image/png": "[encoded data removed]",
      "text/plain": [
       "<Figure size 432x288 with 1 Axes>"
      ]
     },
     "metadata": {
      "needs_background": "light"
     },
     "output_type": "display_data"
    },
    {
     "data": {
      "text/plain": [
       "sedan          96\n",
       "hatchback      70\n",
       "wagon          25\n",
       "hardtop         8\n",
       "convertible     6\n",
       "Name: body-style, dtype: int64"
      ]
     },
     "execution_count": 471,
     "metadata": {},
     "output_type": "execute_result"
    }
   ],
   "source": [
    "# Phân tích biến body-style\n",
    "Category(df,'body-style',False)"
   ]
  },
  {
   "cell_type": "code",
   "execution_count": 472,
   "metadata": {
    "execution": {
     "iopub.execute_input": "2022-05-13T13:50:46.588422Z",
     "iopub.status.busy": "2022-05-13T13:50:46.588014Z",
     "iopub.status.idle": "2022-05-13T13:50:46.593326Z",
     "shell.execute_reply": "2022-05-13T13:50:46.592103Z",
     "shell.execute_reply.started": "2022-05-13T13:50:46.588383Z"
    },
    "tags": []
   },
   "outputs": [],
   "source": [
    "# hai dòng xe được ưu chuộng nhất là sedan và hatchback."
   ]
  },
  {
   "cell_type": "code",
   "execution_count": 473,
   "metadata": {
    "execution": {
     "iopub.execute_input": "2022-05-13T13:50:46.595613Z",
     "iopub.status.busy": "2022-05-13T13:50:46.595275Z",
     "iopub.status.idle": "2022-05-13T13:50:46.723943Z",
     "shell.execute_reply": "2022-05-13T13:50:46.722856Z",
     "shell.execute_reply.started": "2022-05-13T13:50:46.595575Z"
    },
    "tags": []
   },
   "outputs": [
    {
     "data": {
      "image/png": "[encoded data removed]",
      "text/plain": [
       "<Figure size 432x288 with 1 Axes>"
      ]
     },
     "metadata": {
      "needs_background": "light"
     },
     "output_type": "display_data"
    },
    {
     "data": {
      "text/plain": [
       "fwd    120\n",
       "rwd     76\n",
       "4wd      9\n",
       "Name: drive-wheels, dtype: int64"
      ]
     },
     "execution_count": 473,
     "metadata": {},
     "output_type": "execute_result"
    }
   ],
   "source": [
    "# Phân tích biến drive-wheels\n",
    "Category(df, 'drive-wheels',False)"
   ]
  },
  {
   "cell_type": "code",
   "execution_count": 474,
   "metadata": {
    "execution": {
     "iopub.execute_input": "2022-05-13T13:50:46.726318Z",
     "iopub.status.busy": "2022-05-13T13:50:46.725895Z",
     "iopub.status.idle": "2022-05-13T13:50:46.731627Z",
     "shell.execute_reply": "2022-05-13T13:50:46.730432Z",
     "shell.execute_reply.started": "2022-05-13T13:50:46.726280Z"
    },
    "tags": []
   },
   "outputs": [],
   "source": [
    "# Trong drive-wheels có hai loại phổ biến là rwd và fwd"
   ]
  },
  {
   "cell_type": "code",
   "execution_count": 475,
   "metadata": {
    "execution": {
     "iopub.execute_input": "2022-05-13T13:50:46.733985Z",
     "iopub.status.busy": "2022-05-13T13:50:46.733610Z",
     "iopub.status.idle": "2022-05-13T13:50:46.858939Z",
     "shell.execute_reply": "2022-05-13T13:50:46.857781Z",
     "shell.execute_reply.started": "2022-05-13T13:50:46.733947Z"
    },
    "tags": []
   },
   "outputs": [
    {
     "data": {
      "image/png": "[encoded data removed]",
      "text/plain": [
       "<Figure size 432x288 with 1 Axes>"
      ]
     },
     "metadata": {
      "needs_background": "light"
     },
     "output_type": "display_data"
    },
    {
     "data": {
      "text/plain": [
       "four    116\n",
       "two      89\n",
       "Name: num-of-doors, dtype: int64"
      ]
     },
     "execution_count": 475,
     "metadata": {},
     "output_type": "execute_result"
    }
   ],
   "source": [
    "# Phân tích biến num-of-doors\n",
    "Category(df,'num-of-doors',False)"
   ]
  },
  {
   "cell_type": "code",
   "execution_count": 476,
   "metadata": {
    "execution": {
     "iopub.execute_input": "2022-05-13T13:50:46.861459Z",
     "iopub.status.busy": "2022-05-13T13:50:46.861061Z",
     "iopub.status.idle": "2022-05-13T13:50:46.866716Z",
     "shell.execute_reply": "2022-05-13T13:50:46.865313Z",
     "shell.execute_reply.started": "2022-05-13T13:50:46.861422Z"
    },
    "tags": []
   },
   "outputs": [],
   "source": [
    "# xe bốn cửa được yêu thích hơn xe hai của "
   ]
  },
  {
   "cell_type": "markdown",
   "metadata": {},
   "source": [
    "#### Phân tích hai biến"
   ]
  },
  {
   "cell_type": "markdown",
   "metadata": {
    "tags": []
   },
   "source": [
    "##### Hai biến liên tục"
   ]
  },
  {
   "cell_type": "code",
   "execution_count": 477,
   "metadata": {
    "execution": {
     "iopub.execute_input": "2022-05-13T13:50:46.869044Z",
     "iopub.status.busy": "2022-05-13T13:50:46.868378Z",
     "iopub.status.idle": "2022-05-13T13:50:48.260961Z",
     "shell.execute_reply": "2022-05-13T13:50:48.260339Z",
     "shell.execute_reply.started": "2022-05-13T13:50:46.869003Z"
    },
    "tags": []
   },
   "outputs": [
    {
     "data": {
      "image/png": "[encoded data removed]",
      "text/plain": [
       "<Figure size 720x576 with 2 Axes>"
      ]
     },
     "metadata": {
      "needs_background": "light"
     },
     "output_type": "display_data"
    }
   ],
   "source": [
    "plt.figure(figsize=(10,8), )\n",
    "sns.heatmap(df.corr(), annot=True, cmap='winter')\n",
    "plt.show()"
   ]
  },
  {
   "cell_type": "code",
   "execution_count": 478,
   "metadata": {
    "execution": {
     "iopub.execute_input": "2022-05-13T13:50:48.262415Z",
     "iopub.status.busy": "2022-05-13T13:50:48.262178Z",
     "iopub.status.idle": "2022-05-13T13:50:48.270291Z",
     "shell.execute_reply": "2022-05-13T13:50:48.268960Z",
     "shell.execute_reply.started": "2022-05-13T13:50:48.262390Z"
    },
    "tags": []
   },
   "outputs": [],
   "source": [
    "corr = df.corr()"
   ]
  },
  {
   "cell_type": "code",
   "execution_count": 479,
   "metadata": {
    "execution": {
     "iopub.execute_input": "2022-05-13T13:50:48.272944Z",
     "iopub.status.busy": "2022-05-13T13:50:48.272422Z",
     "iopub.status.idle": "2022-05-13T13:50:48.286522Z",
     "shell.execute_reply": "2022-05-13T13:50:48.285659Z",
     "shell.execute_reply.started": "2022-05-13T13:50:48.272904Z"
    },
    "tags": []
   },
   "outputs": [
    {
     "data": {
      "text/plain": [
       "engine-size    0.861769\n",
       "curb-weight    0.820807\n",
       "horsepower     0.759731\n",
       "width          0.729009\n",
       "length         0.682528\n",
       "wheel-base     0.582915\n",
       "city-mpg      -0.667215\n",
       "highway-mpg   -0.690173\n",
       "Name: price, dtype: float64"
      ]
     },
     "execution_count": 479,
     "metadata": {},
     "output_type": "execute_result"
    }
   ],
   "source": [
    "# Danh sách các biến liên tục có tương qua với price\n",
    "lst_con = corr.price.sort_values(ascending=False)[1:]\n",
    "lst_con = lst_con[(lst_con>0.5)|(lst_con<-0.5)]\n",
    "lst_con"
   ]
  },
  {
   "cell_type": "code",
   "execution_count": 480,
   "metadata": {
    "execution": {
     "iopub.execute_input": "2022-05-13T13:50:48.288949Z",
     "iopub.status.busy": "2022-05-13T13:50:48.288353Z",
     "iopub.status.idle": "2022-05-13T13:50:50.158112Z",
     "shell.execute_reply": "2022-05-13T13:50:50.157459Z",
     "shell.execute_reply.started": "2022-05-13T13:50:48.288908Z"
    },
    "tags": []
   },
   "outputs": [
    {
     "data": {
      "image/png": "[encoded data removed]",
      "text/plain": [
       "<Figure size 1296x1080 with 8 Axes>"
      ]
     },
     "metadata": {
      "needs_background": "light"
     },
     "output_type": "display_data"
    }
   ],
   "source": [
    "i = 0;\n",
    "plt.figure(figsize=(18,15))\n",
    "for col in lst_con.index:\n",
    "    i = i + 1;\n",
    "    plt.subplot(3,3,i)\n",
    "    sns.scatterplot(data=df, x=col, y='price')\n",
    "    plt.title('price vs '+col)\n",
    "plt.show()"
   ]
  },
  {
   "cell_type": "markdown",
   "metadata": {},
   "source": [
    "##### Biến phân loại và biến liên tục"
   ]
  },
  {
   "cell_type": "code",
   "execution_count": 481,
   "metadata": {
    "execution": {
     "iopub.execute_input": "2022-05-13T13:50:50.159513Z",
     "iopub.status.busy": "2022-05-13T13:50:50.159315Z",
     "iopub.status.idle": "2022-05-13T13:50:50.164293Z",
     "shell.execute_reply": "2022-05-13T13:50:50.162329Z",
     "shell.execute_reply.started": "2022-05-13T13:50:50.159490Z"
    },
    "tags": []
   },
   "outputs": [],
   "source": [
    "from sklearn import preprocessing"
   ]
  },
  {
   "cell_type": "code",
   "execution_count": 482,
   "metadata": {
    "execution": {
     "iopub.execute_input": "2022-05-13T13:50:50.166985Z",
     "iopub.status.busy": "2022-05-13T13:50:50.166302Z",
     "iopub.status.idle": "2022-05-13T13:50:50.173691Z",
     "shell.execute_reply": "2022-05-13T13:50:50.172531Z",
     "shell.execute_reply.started": "2022-05-13T13:50:50.166938Z"
    },
    "tags": []
   },
   "outputs": [],
   "source": [
    "label_encoder = preprocessing.LabelEncoder()"
   ]
  },
  {
   "cell_type": "code",
   "execution_count": 483,
   "metadata": {
    "execution": {
     "iopub.execute_input": "2022-05-13T13:50:50.176439Z",
     "iopub.status.busy": "2022-05-13T13:50:50.175907Z",
     "iopub.status.idle": "2022-05-13T13:50:50.194437Z",
     "shell.execute_reply": "2022-05-13T13:50:50.193117Z",
     "shell.execute_reply.started": "2022-05-13T13:50:50.176278Z"
    },
    "tags": []
   },
   "outputs": [
    {
     "data": {
      "text/html": [
       "<div>\n",
       "<style scoped>\n",
       "    .dataframe tbody tr th:only-of-type {\n",
       "        vertical-align: middle;\n",
       "    }\n",
       "\n",
       "    .dataframe tbody tr th {\n",
       "        vertical-align: top;\n",
       "    }\n",
       "\n",
       "    .dataframe thead th {\n",
       "        text-align: right;\n",
       "    }\n",
       "</style>\n",
       "<table border=\"1\" class=\"dataframe\">\n",
       "  <thead>\n",
       "    <tr style=\"text-align: right;\">\n",
       "      <th></th>\n",
       "      <th>body_style</th>\n",
       "      <th>drive_wheels</th>\n",
       "      <th>price</th>\n",
       "    </tr>\n",
       "  </thead>\n",
       "  <tbody>\n",
       "    <tr>\n",
       "      <th>0</th>\n",
       "      <td>convertible</td>\n",
       "      <td>rwd</td>\n",
       "      <td>13495</td>\n",
       "    </tr>\n",
       "    <tr>\n",
       "      <th>1</th>\n",
       "      <td>convertible</td>\n",
       "      <td>rwd</td>\n",
       "      <td>16500</td>\n",
       "    </tr>\n",
       "    <tr>\n",
       "      <th>2</th>\n",
       "      <td>hatchback</td>\n",
       "      <td>rwd</td>\n",
       "      <td>16500</td>\n",
       "    </tr>\n",
       "    <tr>\n",
       "      <th>3</th>\n",
       "      <td>sedan</td>\n",
       "      <td>fwd</td>\n",
       "      <td>13950</td>\n",
       "    </tr>\n",
       "    <tr>\n",
       "      <th>4</th>\n",
       "      <td>sedan</td>\n",
       "      <td>4wd</td>\n",
       "      <td>17450</td>\n",
       "    </tr>\n",
       "  </tbody>\n",
       "</table>\n",
       "</div>"
      ],
      "text/plain": [
       "    body_style drive_wheels  price\n",
       "0  convertible          rwd  13495\n",
       "1  convertible          rwd  16500\n",
       "2    hatchback          rwd  16500\n",
       "3        sedan          fwd  13950\n",
       "4        sedan          4wd  17450"
      ]
     },
     "execution_count": 483,
     "metadata": {},
     "output_type": "execute_result"
    }
   ],
   "source": [
    "# ANOVA: body-style, drive-wheels có ảnh hưởng đến price\n",
    "d_melt = df[['body-style','drive-wheels','price']]\n",
    "d_melt.columns = ['body_style', 'drive_wheels','price']\n",
    "d_melt.head()"
   ]
  },
  {
   "cell_type": "code",
   "execution_count": 484,
   "metadata": {
    "execution": {
     "iopub.execute_input": "2022-05-13T13:50:50.197120Z",
     "iopub.status.busy": "2022-05-13T13:50:50.196489Z",
     "iopub.status.idle": "2022-05-13T13:50:50.583955Z",
     "shell.execute_reply": "2022-05-13T13:50:50.583117Z",
     "shell.execute_reply.started": "2022-05-13T13:50:50.197075Z"
    },
    "tags": []
   },
   "outputs": [
    {
     "data": {
      "image/png": "[encoded data removed]",
      "text/plain": [
       "<Figure size 720x576 with 1 Axes>"
      ]
     },
     "metadata": {
      "needs_background": "light"
     },
     "output_type": "display_data"
    }
   ],
   "source": [
    "plt.figure(figsize=(10,8))\n",
    "sns.boxplot(x='body_style', y='price', hue='drive_wheels', data=d_melt, palette='Set3')\n",
    "plt.show()"
   ]
  },
  {
   "cell_type": "code",
   "execution_count": 485,
   "metadata": {
    "execution": {
     "iopub.execute_input": "2022-05-13T13:50:50.586089Z",
     "iopub.status.busy": "2022-05-13T13:50:50.585662Z",
     "iopub.status.idle": "2022-05-13T13:50:50.599370Z",
     "shell.execute_reply": "2022-05-13T13:50:50.598478Z",
     "shell.execute_reply.started": "2022-05-13T13:50:50.586050Z"
    },
    "tags": []
   },
   "outputs": [
    {
     "data": {
      "text/html": [
       "<div>\n",
       "<style scoped>\n",
       "    .dataframe tbody tr th:only-of-type {\n",
       "        vertical-align: middle;\n",
       "    }\n",
       "\n",
       "    .dataframe tbody tr th {\n",
       "        vertical-align: top;\n",
       "    }\n",
       "\n",
       "    .dataframe thead th {\n",
       "        text-align: right;\n",
       "    }\n",
       "</style>\n",
       "<table border=\"1\" class=\"dataframe\">\n",
       "  <thead>\n",
       "    <tr style=\"text-align: right;\">\n",
       "      <th></th>\n",
       "      <th>body_style</th>\n",
       "      <th>drive_wheels</th>\n",
       "      <th>price</th>\n",
       "    </tr>\n",
       "  </thead>\n",
       "  <tbody>\n",
       "    <tr>\n",
       "      <th>0</th>\n",
       "      <td>0</td>\n",
       "      <td>2</td>\n",
       "      <td>13495</td>\n",
       "    </tr>\n",
       "    <tr>\n",
       "      <th>1</th>\n",
       "      <td>0</td>\n",
       "      <td>2</td>\n",
       "      <td>16500</td>\n",
       "    </tr>\n",
       "    <tr>\n",
       "      <th>2</th>\n",
       "      <td>2</td>\n",
       "      <td>2</td>\n",
       "      <td>16500</td>\n",
       "    </tr>\n",
       "    <tr>\n",
       "      <th>3</th>\n",
       "      <td>3</td>\n",
       "      <td>1</td>\n",
       "      <td>13950</td>\n",
       "    </tr>\n",
       "    <tr>\n",
       "      <th>4</th>\n",
       "      <td>3</td>\n",
       "      <td>0</td>\n",
       "      <td>17450</td>\n",
       "    </tr>\n",
       "  </tbody>\n",
       "</table>\n",
       "</div>"
      ],
      "text/plain": [
       "   body_style  drive_wheels  price\n",
       "0           0             2  13495\n",
       "1           0             2  16500\n",
       "2           2             2  16500\n",
       "3           3             1  13950\n",
       "4           3             0  17450"
      ]
     },
     "execution_count": 485,
     "metadata": {},
     "output_type": "execute_result"
    }
   ],
   "source": [
    "d_melt['body_style'] = label_encoder.fit_transform(d_melt['body_style'])\n",
    "d_melt['drive_wheels'] = label_encoder.fit_transform(d_melt['drive_wheels'])\n",
    "d_melt.head()"
   ]
  },
  {
   "cell_type": "code",
   "execution_count": 486,
   "metadata": {
    "execution": {
     "iopub.execute_input": "2022-05-13T13:50:50.611434Z",
     "iopub.status.busy": "2022-05-13T13:50:50.611206Z",
     "iopub.status.idle": "2022-05-13T13:50:50.648569Z",
     "shell.execute_reply": "2022-05-13T13:50:50.647665Z",
     "shell.execute_reply.started": "2022-05-13T13:50:50.611411Z"
    },
    "tags": []
   },
   "outputs": [
    {
     "data": {
      "text/html": [
       "<div>\n",
       "<style scoped>\n",
       "    .dataframe tbody tr th:only-of-type {\n",
       "        vertical-align: middle;\n",
       "    }\n",
       "\n",
       "    .dataframe tbody tr th {\n",
       "        vertical-align: top;\n",
       "    }\n",
       "\n",
       "    .dataframe thead th {\n",
       "        text-align: right;\n",
       "    }\n",
       "</style>\n",
       "<table border=\"1\" class=\"dataframe\">\n",
       "  <thead>\n",
       "    <tr style=\"text-align: right;\">\n",
       "      <th></th>\n",
       "      <th>sum_sq</th>\n",
       "      <th>df</th>\n",
       "      <th>F</th>\n",
       "      <th>PR(&gt;F)</th>\n",
       "    </tr>\n",
       "  </thead>\n",
       "  <tbody>\n",
       "    <tr>\n",
       "      <th>C(body_style)</th>\n",
       "      <td>5.067119e+08</td>\n",
       "      <td>4.0</td>\n",
       "      <td>3.754976</td>\n",
       "      <td>5.766948e-03</td>\n",
       "    </tr>\n",
       "    <tr>\n",
       "      <th>C(drive_wheels)</th>\n",
       "      <td>5.788561e+09</td>\n",
       "      <td>2.0</td>\n",
       "      <td>85.791984</td>\n",
       "      <td>2.392569e-27</td>\n",
       "    </tr>\n",
       "    <tr>\n",
       "      <th>C(body_style):C(drive_wheels)</th>\n",
       "      <td>5.976013e+08</td>\n",
       "      <td>8.0</td>\n",
       "      <td>2.214255</td>\n",
       "      <td>2.803820e-02</td>\n",
       "    </tr>\n",
       "    <tr>\n",
       "      <th>Residual</th>\n",
       "      <td>6.477316e+09</td>\n",
       "      <td>192.0</td>\n",
       "      <td>NaN</td>\n",
       "      <td>NaN</td>\n",
       "    </tr>\n",
       "  </tbody>\n",
       "</table>\n",
       "</div>"
      ],
      "text/plain": [
       "                                     sum_sq     df          F        PR(>F)\n",
       "C(body_style)                  5.067119e+08    4.0   3.754976  5.766948e-03\n",
       "C(drive_wheels)                5.788561e+09    2.0  85.791984  2.392569e-27\n",
       "C(body_style):C(drive_wheels)  5.976013e+08    8.0   2.214255  2.803820e-02\n",
       "Residual                       6.477316e+09  192.0        NaN           NaN"
      ]
     },
     "execution_count": 486,
     "metadata": {},
     "output_type": "execute_result"
    }
   ],
   "source": [
    "import statsmodels.api as sm\n",
    "from statsmodels.formula.api import ols\n",
    "\n",
    "model = ols('price ~ C(body_style) + C(drive_wheels) + C(body_style):C(drive_wheels)', data=d_melt).fit()\n",
    "anova_table = sm.stats.anova_lm(model, typ=2)\n",
    "anova_table"
   ]
  },
  {
   "cell_type": "code",
   "execution_count": 487,
   "metadata": {
    "execution": {
     "iopub.execute_input": "2022-05-13T13:50:50.654406Z",
     "iopub.status.busy": "2022-05-13T13:50:50.653524Z",
     "iopub.status.idle": "2022-05-13T13:50:50.659243Z",
     "shell.execute_reply": "2022-05-13T13:50:50.658156Z",
     "shell.execute_reply.started": "2022-05-13T13:50:50.654366Z"
    },
    "tags": []
   },
   "outputs": [],
   "source": [
    "# body-style, drive_wheels điều có ảnh hưởng đến price.\n",
    "# khi kết hợp hai biến này lại cũng có ảnh hưởng đến price"
   ]
  },
  {
   "cell_type": "code",
   "execution_count": 488,
   "metadata": {
    "execution": {
     "iopub.execute_input": "2022-05-13T13:50:50.661298Z",
     "iopub.status.busy": "2022-05-13T13:50:50.660897Z",
     "iopub.status.idle": "2022-05-13T13:50:50.674993Z",
     "shell.execute_reply": "2022-05-13T13:50:50.673000Z",
     "shell.execute_reply.started": "2022-05-13T13:50:50.661261Z"
    },
    "tags": []
   },
   "outputs": [
    {
     "data": {
      "text/html": [
       "<div>\n",
       "<style scoped>\n",
       "    .dataframe tbody tr th:only-of-type {\n",
       "        vertical-align: middle;\n",
       "    }\n",
       "\n",
       "    .dataframe tbody tr th {\n",
       "        vertical-align: top;\n",
       "    }\n",
       "\n",
       "    .dataframe thead th {\n",
       "        text-align: right;\n",
       "    }\n",
       "</style>\n",
       "<table border=\"1\" class=\"dataframe\">\n",
       "  <thead>\n",
       "    <tr style=\"text-align: right;\">\n",
       "      <th></th>\n",
       "      <th>fuel_type</th>\n",
       "      <th>fuel_system</th>\n",
       "      <th>price</th>\n",
       "    </tr>\n",
       "  </thead>\n",
       "  <tbody>\n",
       "    <tr>\n",
       "      <th>0</th>\n",
       "      <td>gas</td>\n",
       "      <td>mpfi</td>\n",
       "      <td>13495</td>\n",
       "    </tr>\n",
       "    <tr>\n",
       "      <th>1</th>\n",
       "      <td>gas</td>\n",
       "      <td>mpfi</td>\n",
       "      <td>16500</td>\n",
       "    </tr>\n",
       "    <tr>\n",
       "      <th>2</th>\n",
       "      <td>gas</td>\n",
       "      <td>mpfi</td>\n",
       "      <td>16500</td>\n",
       "    </tr>\n",
       "    <tr>\n",
       "      <th>3</th>\n",
       "      <td>gas</td>\n",
       "      <td>mpfi</td>\n",
       "      <td>13950</td>\n",
       "    </tr>\n",
       "    <tr>\n",
       "      <th>4</th>\n",
       "      <td>gas</td>\n",
       "      <td>mpfi</td>\n",
       "      <td>17450</td>\n",
       "    </tr>\n",
       "  </tbody>\n",
       "</table>\n",
       "</div>"
      ],
      "text/plain": [
       "  fuel_type fuel_system  price\n",
       "0       gas        mpfi  13495\n",
       "1       gas        mpfi  16500\n",
       "2       gas        mpfi  16500\n",
       "3       gas        mpfi  13950\n",
       "4       gas        mpfi  17450"
      ]
     },
     "execution_count": 488,
     "metadata": {},
     "output_type": "execute_result"
    }
   ],
   "source": [
    "# ANOVA: fuel-type, fuel-system có ảnh hưởng đến price\n",
    "d_melt = df[['fuel-type','fuel-system','price']]\n",
    "d_melt.columns = ['fuel_type','fuel_system','price']\n",
    "d_melt.head()"
   ]
  },
  {
   "cell_type": "code",
   "execution_count": 489,
   "metadata": {
    "execution": {
     "iopub.execute_input": "2022-05-13T13:50:50.679472Z",
     "iopub.status.busy": "2022-05-13T13:50:50.678808Z",
     "iopub.status.idle": "2022-05-13T13:50:51.015667Z",
     "shell.execute_reply": "2022-05-13T13:50:51.015072Z",
     "shell.execute_reply.started": "2022-05-13T13:50:50.679392Z"
    },
    "tags": []
   },
   "outputs": [
    {
     "data": {
      "image/png": "[encoded data removed]",
      "text/plain": [
       "<Figure size 720x576 with 1 Axes>"
      ]
     },
     "metadata": {
      "needs_background": "light"
     },
     "output_type": "display_data"
    }
   ],
   "source": [
    "plt.figure(figsize=(10,8))\n",
    "sns.boxplot(x='fuel_system', y='price', hue='fuel_type', data=d_melt, palette='Set3')\n",
    "plt.show()"
   ]
  },
  {
   "cell_type": "code",
   "execution_count": 490,
   "metadata": {
    "execution": {
     "iopub.execute_input": "2022-05-13T13:50:51.017957Z",
     "iopub.status.busy": "2022-05-13T13:50:51.017494Z",
     "iopub.status.idle": "2022-05-13T13:50:51.030724Z",
     "shell.execute_reply": "2022-05-13T13:50:51.029804Z",
     "shell.execute_reply.started": "2022-05-13T13:50:51.017915Z"
    },
    "tags": []
   },
   "outputs": [
    {
     "data": {
      "text/html": [
       "<div>\n",
       "<style scoped>\n",
       "    .dataframe tbody tr th:only-of-type {\n",
       "        vertical-align: middle;\n",
       "    }\n",
       "\n",
       "    .dataframe tbody tr th {\n",
       "        vertical-align: top;\n",
       "    }\n",
       "\n",
       "    .dataframe thead th {\n",
       "        text-align: right;\n",
       "    }\n",
       "</style>\n",
       "<table border=\"1\" class=\"dataframe\">\n",
       "  <thead>\n",
       "    <tr style=\"text-align: right;\">\n",
       "      <th></th>\n",
       "      <th>fuel_type</th>\n",
       "      <th>fuel_system</th>\n",
       "      <th>price</th>\n",
       "    </tr>\n",
       "  </thead>\n",
       "  <tbody>\n",
       "    <tr>\n",
       "      <th>0</th>\n",
       "      <td>1</td>\n",
       "      <td>5</td>\n",
       "      <td>13495</td>\n",
       "    </tr>\n",
       "    <tr>\n",
       "      <th>1</th>\n",
       "      <td>1</td>\n",
       "      <td>5</td>\n",
       "      <td>16500</td>\n",
       "    </tr>\n",
       "    <tr>\n",
       "      <th>2</th>\n",
       "      <td>1</td>\n",
       "      <td>5</td>\n",
       "      <td>16500</td>\n",
       "    </tr>\n",
       "    <tr>\n",
       "      <th>3</th>\n",
       "      <td>1</td>\n",
       "      <td>5</td>\n",
       "      <td>13950</td>\n",
       "    </tr>\n",
       "    <tr>\n",
       "      <th>4</th>\n",
       "      <td>1</td>\n",
       "      <td>5</td>\n",
       "      <td>17450</td>\n",
       "    </tr>\n",
       "  </tbody>\n",
       "</table>\n",
       "</div>"
      ],
      "text/plain": [
       "   fuel_type  fuel_system  price\n",
       "0          1            5  13495\n",
       "1          1            5  16500\n",
       "2          1            5  16500\n",
       "3          1            5  13950\n",
       "4          1            5  17450"
      ]
     },
     "execution_count": 490,
     "metadata": {},
     "output_type": "execute_result"
    }
   ],
   "source": [
    "d_melt['fuel_type'] = label_encoder.fit_transform(d_melt['fuel_type'])\n",
    "d_melt['fuel_system'] = label_encoder.fit_transform(d_melt['fuel_system'])\n",
    "d_melt.head()"
   ]
  },
  {
   "cell_type": "code",
   "execution_count": 491,
   "metadata": {
    "execution": {
     "iopub.execute_input": "2022-05-13T13:50:51.033267Z",
     "iopub.status.busy": "2022-05-13T13:50:51.032575Z",
     "iopub.status.idle": "2022-05-13T13:50:51.076808Z",
     "shell.execute_reply": "2022-05-13T13:50:51.075196Z",
     "shell.execute_reply.started": "2022-05-13T13:50:51.033224Z"
    },
    "tags": []
   },
   "outputs": [
    {
     "data": {
      "text/html": [
       "<div>\n",
       "<style scoped>\n",
       "    .dataframe tbody tr th:only-of-type {\n",
       "        vertical-align: middle;\n",
       "    }\n",
       "\n",
       "    .dataframe tbody tr th {\n",
       "        vertical-align: top;\n",
       "    }\n",
       "\n",
       "    .dataframe thead th {\n",
       "        text-align: right;\n",
       "    }\n",
       "</style>\n",
       "<table border=\"1\" class=\"dataframe\">\n",
       "  <thead>\n",
       "    <tr style=\"text-align: right;\">\n",
       "      <th></th>\n",
       "      <th>sum_sq</th>\n",
       "      <th>df</th>\n",
       "      <th>F</th>\n",
       "      <th>PR(&gt;F)</th>\n",
       "    </tr>\n",
       "  </thead>\n",
       "  <tbody>\n",
       "    <tr>\n",
       "      <th>C(fuel_type)</th>\n",
       "      <td>1.516466e+06</td>\n",
       "      <td>1.0</td>\n",
       "      <td>0.036079</td>\n",
       "      <td>8.495479e-01</td>\n",
       "    </tr>\n",
       "    <tr>\n",
       "      <th>C(fuel_system)</th>\n",
       "      <td>1.996138e+09</td>\n",
       "      <td>7.0</td>\n",
       "      <td>6.784452</td>\n",
       "      <td>1.490100e-06</td>\n",
       "    </tr>\n",
       "    <tr>\n",
       "      <th>C(fuel_type):C(fuel_system)</th>\n",
       "      <td>4.898249e+09</td>\n",
       "      <td>7.0</td>\n",
       "      <td>16.648119</td>\n",
       "      <td>1.676710e-15</td>\n",
       "    </tr>\n",
       "    <tr>\n",
       "      <th>Residual</th>\n",
       "      <td>8.280258e+09</td>\n",
       "      <td>197.0</td>\n",
       "      <td>NaN</td>\n",
       "      <td>NaN</td>\n",
       "    </tr>\n",
       "  </tbody>\n",
       "</table>\n",
       "</div>"
      ],
      "text/plain": [
       "                                   sum_sq     df          F        PR(>F)\n",
       "C(fuel_type)                 1.516466e+06    1.0   0.036079  8.495479e-01\n",
       "C(fuel_system)               1.996138e+09    7.0   6.784452  1.490100e-06\n",
       "C(fuel_type):C(fuel_system)  4.898249e+09    7.0  16.648119  1.676710e-15\n",
       "Residual                     8.280258e+09  197.0        NaN           NaN"
      ]
     },
     "execution_count": 491,
     "metadata": {},
     "output_type": "execute_result"
    }
   ],
   "source": [
    "model = ols('price ~ C(fuel_type) + C(fuel_system) + C(fuel_type):C(fuel_system)', data=d_melt).fit()\n",
    "anova_table = sm.stats.anova_lm(model, typ=2)\n",
    "anova_table"
   ]
  },
  {
   "cell_type": "code",
   "execution_count": 492,
   "metadata": {
    "execution": {
     "iopub.execute_input": "2022-05-13T13:50:51.086602Z",
     "iopub.status.busy": "2022-05-13T13:50:51.085870Z",
     "iopub.status.idle": "2022-05-13T13:50:51.090603Z",
     "shell.execute_reply": "2022-05-13T13:50:51.089411Z",
     "shell.execute_reply.started": "2022-05-13T13:50:51.086539Z"
    },
    "tags": []
   },
   "outputs": [],
   "source": [
    "# fuel_system ảnh hưởng đến price còn fuel_type thì không\n",
    "# Sự phối hợp của fuel_system và fuel_type có ảnh hưởng đáng kể đến price"
   ]
  },
  {
   "cell_type": "code",
   "execution_count": 493,
   "metadata": {
    "execution": {
     "iopub.execute_input": "2022-05-13T13:50:51.092627Z",
     "iopub.status.busy": "2022-05-13T13:50:51.092234Z",
     "iopub.status.idle": "2022-05-13T13:50:51.106971Z",
     "shell.execute_reply": "2022-05-13T13:50:51.105887Z",
     "shell.execute_reply.started": "2022-05-13T13:50:51.092591Z"
    },
    "tags": []
   },
   "outputs": [
    {
     "data": {
      "text/html": [
       "<div>\n",
       "<style scoped>\n",
       "    .dataframe tbody tr th:only-of-type {\n",
       "        vertical-align: middle;\n",
       "    }\n",
       "\n",
       "    .dataframe tbody tr th {\n",
       "        vertical-align: top;\n",
       "    }\n",
       "\n",
       "    .dataframe thead th {\n",
       "        text-align: right;\n",
       "    }\n",
       "</style>\n",
       "<table border=\"1\" class=\"dataframe\">\n",
       "  <thead>\n",
       "    <tr style=\"text-align: right;\">\n",
       "      <th></th>\n",
       "      <th>engine_type</th>\n",
       "      <th>num_of_cylinders</th>\n",
       "      <th>price</th>\n",
       "    </tr>\n",
       "  </thead>\n",
       "  <tbody>\n",
       "    <tr>\n",
       "      <th>0</th>\n",
       "      <td>dohc</td>\n",
       "      <td>four</td>\n",
       "      <td>13495</td>\n",
       "    </tr>\n",
       "    <tr>\n",
       "      <th>1</th>\n",
       "      <td>dohc</td>\n",
       "      <td>four</td>\n",
       "      <td>16500</td>\n",
       "    </tr>\n",
       "    <tr>\n",
       "      <th>2</th>\n",
       "      <td>ohcv</td>\n",
       "      <td>six</td>\n",
       "      <td>16500</td>\n",
       "    </tr>\n",
       "    <tr>\n",
       "      <th>3</th>\n",
       "      <td>ohc</td>\n",
       "      <td>four</td>\n",
       "      <td>13950</td>\n",
       "    </tr>\n",
       "    <tr>\n",
       "      <th>4</th>\n",
       "      <td>ohc</td>\n",
       "      <td>five</td>\n",
       "      <td>17450</td>\n",
       "    </tr>\n",
       "  </tbody>\n",
       "</table>\n",
       "</div>"
      ],
      "text/plain": [
       "  engine_type num_of_cylinders  price\n",
       "0        dohc             four  13495\n",
       "1        dohc             four  16500\n",
       "2        ohcv              six  16500\n",
       "3         ohc             four  13950\n",
       "4         ohc             five  17450"
      ]
     },
     "execution_count": 493,
     "metadata": {},
     "output_type": "execute_result"
    }
   ],
   "source": [
    "# ANOVA: engine-type, num-of-cylinders có ảnh hưởng đến price\n",
    "d_melt = df[['engine-type','num-of-cylinders','price']]\n",
    "d_melt.columns = ['engine_type','num_of_cylinders','price']\n",
    "d_melt.head()"
   ]
  },
  {
   "cell_type": "code",
   "execution_count": 494,
   "metadata": {
    "execution": {
     "iopub.execute_input": "2022-05-13T13:50:51.109577Z",
     "iopub.status.busy": "2022-05-13T13:50:51.109094Z",
     "iopub.status.idle": "2022-05-13T13:50:51.591636Z",
     "shell.execute_reply": "2022-05-13T13:50:51.590757Z",
     "shell.execute_reply.started": "2022-05-13T13:50:51.109539Z"
    },
    "tags": []
   },
   "outputs": [
    {
     "data": {
      "image/png": "[encoded data removed]",
      "text/plain": [
       "<Figure size 720x576 with 1 Axes>"
      ]
     },
     "metadata": {
      "needs_background": "light"
     },
     "output_type": "display_data"
    }
   ],
   "source": [
    "plt.figure(figsize=(10,8))\n",
    "sns.boxplot(x='num_of_cylinders', y='price', hue='engine_type', data=d_melt, palette='Set3')\n",
    "plt.show()"
   ]
  },
  {
   "cell_type": "code",
   "execution_count": 495,
   "metadata": {
    "execution": {
     "iopub.execute_input": "2022-05-13T13:50:51.593788Z",
     "iopub.status.busy": "2022-05-13T13:50:51.593272Z",
     "iopub.status.idle": "2022-05-13T13:50:51.605681Z",
     "shell.execute_reply": "2022-05-13T13:50:51.604650Z",
     "shell.execute_reply.started": "2022-05-13T13:50:51.593744Z"
    },
    "tags": []
   },
   "outputs": [
    {
     "data": {
      "text/html": [
       "<div>\n",
       "<style scoped>\n",
       "    .dataframe tbody tr th:only-of-type {\n",
       "        vertical-align: middle;\n",
       "    }\n",
       "\n",
       "    .dataframe tbody tr th {\n",
       "        vertical-align: top;\n",
       "    }\n",
       "\n",
       "    .dataframe thead th {\n",
       "        text-align: right;\n",
       "    }\n",
       "</style>\n",
       "<table border=\"1\" class=\"dataframe\">\n",
       "  <thead>\n",
       "    <tr style=\"text-align: right;\">\n",
       "      <th></th>\n",
       "      <th>engine_type</th>\n",
       "      <th>num_of_cylinders</th>\n",
       "      <th>price</th>\n",
       "    </tr>\n",
       "  </thead>\n",
       "  <tbody>\n",
       "    <tr>\n",
       "      <th>0</th>\n",
       "      <td>0</td>\n",
       "      <td>2</td>\n",
       "      <td>13495</td>\n",
       "    </tr>\n",
       "    <tr>\n",
       "      <th>1</th>\n",
       "      <td>0</td>\n",
       "      <td>2</td>\n",
       "      <td>16500</td>\n",
       "    </tr>\n",
       "    <tr>\n",
       "      <th>2</th>\n",
       "      <td>5</td>\n",
       "      <td>3</td>\n",
       "      <td>16500</td>\n",
       "    </tr>\n",
       "    <tr>\n",
       "      <th>3</th>\n",
       "      <td>3</td>\n",
       "      <td>2</td>\n",
       "      <td>13950</td>\n",
       "    </tr>\n",
       "    <tr>\n",
       "      <th>4</th>\n",
       "      <td>3</td>\n",
       "      <td>1</td>\n",
       "      <td>17450</td>\n",
       "    </tr>\n",
       "  </tbody>\n",
       "</table>\n",
       "</div>"
      ],
      "text/plain": [
       "   engine_type  num_of_cylinders  price\n",
       "0            0                 2  13495\n",
       "1            0                 2  16500\n",
       "2            5                 3  16500\n",
       "3            3                 2  13950\n",
       "4            3                 1  17450"
      ]
     },
     "execution_count": 495,
     "metadata": {},
     "output_type": "execute_result"
    }
   ],
   "source": [
    "d_melt['engine_type'] = label_encoder.fit_transform(d_melt['engine_type'])\n",
    "d_melt['num_of_cylinders'] = label_encoder.fit_transform(d_melt['num_of_cylinders'])\n",
    "d_melt.head()"
   ]
  },
  {
   "cell_type": "code",
   "execution_count": 496,
   "metadata": {
    "execution": {
     "iopub.execute_input": "2022-05-13T13:50:51.607580Z",
     "iopub.status.busy": "2022-05-13T13:50:51.607252Z",
     "iopub.status.idle": "2022-05-13T13:50:51.648766Z",
     "shell.execute_reply": "2022-05-13T13:50:51.647123Z",
     "shell.execute_reply.started": "2022-05-13T13:50:51.607543Z"
    },
    "tags": []
   },
   "outputs": [
    {
     "data": {
      "text/html": [
       "<div>\n",
       "<style scoped>\n",
       "    .dataframe tbody tr th:only-of-type {\n",
       "        vertical-align: middle;\n",
       "    }\n",
       "\n",
       "    .dataframe tbody tr th {\n",
       "        vertical-align: top;\n",
       "    }\n",
       "\n",
       "    .dataframe thead th {\n",
       "        text-align: right;\n",
       "    }\n",
       "</style>\n",
       "<table border=\"1\" class=\"dataframe\">\n",
       "  <thead>\n",
       "    <tr style=\"text-align: right;\">\n",
       "      <th></th>\n",
       "      <th>sum_sq</th>\n",
       "      <th>df</th>\n",
       "      <th>F</th>\n",
       "      <th>PR(&gt;F)</th>\n",
       "    </tr>\n",
       "  </thead>\n",
       "  <tbody>\n",
       "    <tr>\n",
       "      <th>C(engine_type)</th>\n",
       "      <td>3.251126e+08</td>\n",
       "      <td>6.0</td>\n",
       "      <td>3.024465</td>\n",
       "      <td>8.362850e-02</td>\n",
       "    </tr>\n",
       "    <tr>\n",
       "      <th>C(num_of_cylinders)</th>\n",
       "      <td>3.708678e+08</td>\n",
       "      <td>6.0</td>\n",
       "      <td>3.450118</td>\n",
       "      <td>6.478668e-02</td>\n",
       "    </tr>\n",
       "    <tr>\n",
       "      <th>C(engine_type):C(num_of_cylinders)</th>\n",
       "      <td>1.441090e+10</td>\n",
       "      <td>36.0</td>\n",
       "      <td>22.343672</td>\n",
       "      <td>2.502134e-27</td>\n",
       "    </tr>\n",
       "    <tr>\n",
       "      <th>Residual</th>\n",
       "      <td>3.421900e+09</td>\n",
       "      <td>191.0</td>\n",
       "      <td>NaN</td>\n",
       "      <td>NaN</td>\n",
       "    </tr>\n",
       "  </tbody>\n",
       "</table>\n",
       "</div>"
      ],
      "text/plain": [
       "                                          sum_sq     df          F  \\\n",
       "C(engine_type)                      3.251126e+08    6.0   3.024465   \n",
       "C(num_of_cylinders)                 3.708678e+08    6.0   3.450118   \n",
       "C(engine_type):C(num_of_cylinders)  1.441090e+10   36.0  22.343672   \n",
       "Residual                            3.421900e+09  191.0        NaN   \n",
       "\n",
       "                                          PR(>F)  \n",
       "C(engine_type)                      8.362850e-02  \n",
       "C(num_of_cylinders)                 6.478668e-02  \n",
       "C(engine_type):C(num_of_cylinders)  2.502134e-27  \n",
       "Residual                                     NaN  "
      ]
     },
     "execution_count": 496,
     "metadata": {},
     "output_type": "execute_result"
    }
   ],
   "source": [
    "model = ols('price ~ C(engine_type) + C(num_of_cylinders) + C(engine_type):C(num_of_cylinders)', data=d_melt).fit()\n",
    "anova_table = sm.stats.anova_lm(model, typ=2)\n",
    "anova_table"
   ]
  },
  {
   "cell_type": "code",
   "execution_count": 497,
   "metadata": {
    "execution": {
     "iopub.execute_input": "2022-05-13T13:50:51.651174Z",
     "iopub.status.busy": "2022-05-13T13:50:51.650666Z",
     "iopub.status.idle": "2022-05-13T13:50:51.657209Z",
     "shell.execute_reply": "2022-05-13T13:50:51.654788Z",
     "shell.execute_reply.started": "2022-05-13T13:50:51.651136Z"
    },
    "tags": []
   },
   "outputs": [],
   "source": [
    "# engine-style và num_of_cylinders điều không ảnh hửng đến price\n",
    "# Nhưng khi kết hợp lại thì hai biến này có ảnh hương đến price"
   ]
  },
  {
   "cell_type": "code",
   "execution_count": 498,
   "metadata": {
    "execution": {
     "iopub.execute_input": "2022-05-13T13:50:51.662068Z",
     "iopub.status.busy": "2022-05-13T13:50:51.660264Z",
     "iopub.status.idle": "2022-05-13T13:50:52.491074Z",
     "shell.execute_reply": "2022-05-13T13:50:52.489842Z",
     "shell.execute_reply.started": "2022-05-13T13:50:51.662018Z"
    },
    "tags": []
   },
   "outputs": [
    {
     "data": {
      "image/png": "[encoded data removed]",
      "text/plain": [
       "<Figure size 720x576 with 1 Axes>"
      ]
     },
     "metadata": {
      "needs_background": "light"
     },
     "output_type": "display_data"
    },
    {
     "data": {
      "text/html": [
       "<div>\n",
       "<style scoped>\n",
       "    .dataframe tbody tr th:only-of-type {\n",
       "        vertical-align: middle;\n",
       "    }\n",
       "\n",
       "    .dataframe tbody tr th {\n",
       "        vertical-align: top;\n",
       "    }\n",
       "\n",
       "    .dataframe thead th {\n",
       "        text-align: right;\n",
       "    }\n",
       "</style>\n",
       "<table border=\"1\" class=\"dataframe\">\n",
       "  <thead>\n",
       "    <tr style=\"text-align: right;\">\n",
       "      <th></th>\n",
       "      <th>sum_sq</th>\n",
       "      <th>df</th>\n",
       "      <th>F</th>\n",
       "      <th>PR(&gt;F)</th>\n",
       "    </tr>\n",
       "  </thead>\n",
       "  <tbody>\n",
       "    <tr>\n",
       "      <th>C(make)</th>\n",
       "      <td>1.530508e+10</td>\n",
       "      <td>21.0</td>\n",
       "      <td>44.035354</td>\n",
       "      <td>1.172561e-53</td>\n",
       "    </tr>\n",
       "    <tr>\n",
       "      <th>C(num_of_doors)</th>\n",
       "      <td>NaN</td>\n",
       "      <td>1.0</td>\n",
       "      <td>NaN</td>\n",
       "      <td>NaN</td>\n",
       "    </tr>\n",
       "    <tr>\n",
       "      <th>C(make):C(num_of_doors)</th>\n",
       "      <td>1.171071e+09</td>\n",
       "      <td>21.0</td>\n",
       "      <td>3.369374</td>\n",
       "      <td>1.221290e-05</td>\n",
       "    </tr>\n",
       "    <tr>\n",
       "      <th>Residual</th>\n",
       "      <td>2.747406e+09</td>\n",
       "      <td>166.0</td>\n",
       "      <td>NaN</td>\n",
       "      <td>NaN</td>\n",
       "    </tr>\n",
       "  </tbody>\n",
       "</table>\n",
       "</div>"
      ],
      "text/plain": [
       "                               sum_sq     df          F        PR(>F)\n",
       "C(make)                  1.530508e+10   21.0  44.035354  1.172561e-53\n",
       "C(num_of_doors)                   NaN    1.0        NaN           NaN\n",
       "C(make):C(num_of_doors)  1.171071e+09   21.0   3.369374  1.221290e-05\n",
       "Residual                 2.747406e+09  166.0        NaN           NaN"
      ]
     },
     "execution_count": 498,
     "metadata": {},
     "output_type": "execute_result"
    }
   ],
   "source": [
    "# ANOVA: engine-type, num-of-cylinders có ảnh hưởng đến price\n",
    "d_melt = df[['make','num-of-doors','price']]\n",
    "d_melt.columns = ['make','num_of_doors','price']\n",
    "plt.figure(figsize=(10,8))\n",
    "sns.boxplot(x='make', y='price', hue='num_of_doors', data=d_melt, palette='Set3')\n",
    "plt.xticks(rotation=90)\n",
    "plt.show()\n",
    "d_melt['make'] = label_encoder.fit_transform(d_melt['make'])\n",
    "d_melt['num_of_doors'] = label_encoder.fit_transform(d_melt['num_of_doors'])\n",
    "model = ols('price ~ C(make) + C(num_of_doors) + C(make):C(num_of_doors)', data=d_melt).fit()\n",
    "anova_table = sm.stats.anova_lm(model, typ=2)\n",
    "anova_table"
   ]
  },
  {
   "cell_type": "code",
   "execution_count": 499,
   "metadata": {
    "execution": {
     "iopub.execute_input": "2022-05-13T13:50:52.493859Z",
     "iopub.status.busy": "2022-05-13T13:50:52.493328Z",
     "iopub.status.idle": "2022-05-13T13:50:52.506372Z",
     "shell.execute_reply": "2022-05-13T13:50:52.497475Z",
     "shell.execute_reply.started": "2022-05-13T13:50:52.493820Z"
    },
    "tags": []
   },
   "outputs": [],
   "source": [
    "# make có ảnh hưởng lớn đến price"
   ]
  },
  {
   "cell_type": "markdown",
   "metadata": {},
   "source": [
    "## Linear Regression"
   ]
  },
  {
   "cell_type": "code",
   "execution_count": 500,
   "metadata": {
    "execution": {
     "iopub.execute_input": "2022-05-13T13:50:52.508643Z",
     "iopub.status.busy": "2022-05-13T13:50:52.508324Z",
     "iopub.status.idle": "2022-05-13T13:50:52.520558Z",
     "shell.execute_reply": "2022-05-13T13:50:52.514482Z",
     "shell.execute_reply.started": "2022-05-13T13:50:52.508606Z"
    },
    "tags": []
   },
   "outputs": [],
   "source": [
    "from sklearn.linear_model import LinearRegression\n",
    "from sklearn.model_selection import train_test_split\n",
    "from sklearn.metrics import r2_score\n",
    "import numpy as np\n",
    "import statsmodels.api as sm"
   ]
  },
  {
   "cell_type": "code",
   "execution_count": 501,
   "metadata": {
    "execution": {
     "iopub.execute_input": "2022-05-13T13:50:52.525162Z",
     "iopub.status.busy": "2022-05-13T13:50:52.524183Z",
     "iopub.status.idle": "2022-05-13T13:50:52.531524Z",
     "shell.execute_reply": "2022-05-13T13:50:52.530436Z",
     "shell.execute_reply.started": "2022-05-13T13:50:52.525100Z"
    },
    "tags": []
   },
   "outputs": [],
   "source": [
    "col = ['make', 'fuel-type',\n",
    "       'num-of-doors', 'body-style', 'drive-wheels',\n",
    "       'engine-type',\n",
    "       'num-of-cylinders','fuel-system']"
   ]
  },
  {
   "cell_type": "code",
   "execution_count": 502,
   "metadata": {
    "execution": {
     "iopub.execute_input": "2022-05-13T13:50:52.533781Z",
     "iopub.status.busy": "2022-05-13T13:50:52.533426Z",
     "iopub.status.idle": "2022-05-13T13:50:52.540124Z",
     "shell.execute_reply": "2022-05-13T13:50:52.538902Z",
     "shell.execute_reply.started": "2022-05-13T13:50:52.533747Z"
    },
    "tags": []
   },
   "outputs": [],
   "source": [
    "df_lin = df.copy()"
   ]
  },
  {
   "cell_type": "code",
   "execution_count": 503,
   "metadata": {
    "execution": {
     "iopub.execute_input": "2022-05-13T13:50:52.542325Z",
     "iopub.status.busy": "2022-05-13T13:50:52.541956Z",
     "iopub.status.idle": "2022-05-13T13:50:52.600658Z",
     "shell.execute_reply": "2022-05-13T13:50:52.599165Z",
     "shell.execute_reply.started": "2022-05-13T13:50:52.542289Z"
    },
    "tags": []
   },
   "outputs": [
    {
     "data": {
      "text/html": [
       "<div>\n",
       "<style scoped>\n",
       "    .dataframe tbody tr th:only-of-type {\n",
       "        vertical-align: middle;\n",
       "    }\n",
       "\n",
       "    .dataframe tbody tr th {\n",
       "        vertical-align: top;\n",
       "    }\n",
       "\n",
       "    .dataframe thead th {\n",
       "        text-align: right;\n",
       "    }\n",
       "</style>\n",
       "<table border=\"1\" class=\"dataframe\">\n",
       "  <thead>\n",
       "    <tr style=\"text-align: right;\">\n",
       "      <th></th>\n",
       "      <th>symboling</th>\n",
       "      <th>normalized-losses</th>\n",
       "      <th>make</th>\n",
       "      <th>fuel-type</th>\n",
       "      <th>aspiration</th>\n",
       "      <th>num-of-doors</th>\n",
       "      <th>body-style</th>\n",
       "      <th>drive-wheels</th>\n",
       "      <th>engine-location</th>\n",
       "      <th>wheel-base</th>\n",
       "      <th>...</th>\n",
       "      <th>engine-size</th>\n",
       "      <th>fuel-system</th>\n",
       "      <th>bore</th>\n",
       "      <th>stroke</th>\n",
       "      <th>compression-ratio</th>\n",
       "      <th>horsepower</th>\n",
       "      <th>peak-rpm</th>\n",
       "      <th>city-mpg</th>\n",
       "      <th>highway-mpg</th>\n",
       "      <th>price</th>\n",
       "    </tr>\n",
       "  </thead>\n",
       "  <tbody>\n",
       "    <tr>\n",
       "      <th>0</th>\n",
       "      <td>3</td>\n",
       "      <td>161</td>\n",
       "      <td>0</td>\n",
       "      <td>1</td>\n",
       "      <td>std</td>\n",
       "      <td>1</td>\n",
       "      <td>0</td>\n",
       "      <td>2</td>\n",
       "      <td>front</td>\n",
       "      <td>88.6</td>\n",
       "      <td>...</td>\n",
       "      <td>130</td>\n",
       "      <td>5</td>\n",
       "      <td>3.47</td>\n",
       "      <td>2.68</td>\n",
       "      <td>9.0</td>\n",
       "      <td>111</td>\n",
       "      <td>5000</td>\n",
       "      <td>21</td>\n",
       "      <td>27</td>\n",
       "      <td>13495</td>\n",
       "    </tr>\n",
       "    <tr>\n",
       "      <th>1</th>\n",
       "      <td>3</td>\n",
       "      <td>161</td>\n",
       "      <td>0</td>\n",
       "      <td>1</td>\n",
       "      <td>std</td>\n",
       "      <td>1</td>\n",
       "      <td>0</td>\n",
       "      <td>2</td>\n",
       "      <td>front</td>\n",
       "      <td>88.6</td>\n",
       "      <td>...</td>\n",
       "      <td>130</td>\n",
       "      <td>5</td>\n",
       "      <td>3.47</td>\n",
       "      <td>2.68</td>\n",
       "      <td>9.0</td>\n",
       "      <td>111</td>\n",
       "      <td>5000</td>\n",
       "      <td>21</td>\n",
       "      <td>27</td>\n",
       "      <td>16500</td>\n",
       "    </tr>\n",
       "    <tr>\n",
       "      <th>2</th>\n",
       "      <td>1</td>\n",
       "      <td>161</td>\n",
       "      <td>0</td>\n",
       "      <td>1</td>\n",
       "      <td>std</td>\n",
       "      <td>1</td>\n",
       "      <td>2</td>\n",
       "      <td>2</td>\n",
       "      <td>front</td>\n",
       "      <td>94.5</td>\n",
       "      <td>...</td>\n",
       "      <td>152</td>\n",
       "      <td>5</td>\n",
       "      <td>2.68</td>\n",
       "      <td>3.47</td>\n",
       "      <td>9.0</td>\n",
       "      <td>154</td>\n",
       "      <td>5000</td>\n",
       "      <td>19</td>\n",
       "      <td>26</td>\n",
       "      <td>16500</td>\n",
       "    </tr>\n",
       "    <tr>\n",
       "      <th>3</th>\n",
       "      <td>2</td>\n",
       "      <td>164</td>\n",
       "      <td>1</td>\n",
       "      <td>1</td>\n",
       "      <td>std</td>\n",
       "      <td>0</td>\n",
       "      <td>3</td>\n",
       "      <td>1</td>\n",
       "      <td>front</td>\n",
       "      <td>99.8</td>\n",
       "      <td>...</td>\n",
       "      <td>109</td>\n",
       "      <td>5</td>\n",
       "      <td>3.19</td>\n",
       "      <td>3.40</td>\n",
       "      <td>10.0</td>\n",
       "      <td>102</td>\n",
       "      <td>5500</td>\n",
       "      <td>24</td>\n",
       "      <td>30</td>\n",
       "      <td>13950</td>\n",
       "    </tr>\n",
       "    <tr>\n",
       "      <th>4</th>\n",
       "      <td>2</td>\n",
       "      <td>164</td>\n",
       "      <td>1</td>\n",
       "      <td>1</td>\n",
       "      <td>std</td>\n",
       "      <td>0</td>\n",
       "      <td>3</td>\n",
       "      <td>0</td>\n",
       "      <td>front</td>\n",
       "      <td>99.4</td>\n",
       "      <td>...</td>\n",
       "      <td>136</td>\n",
       "      <td>5</td>\n",
       "      <td>3.19</td>\n",
       "      <td>3.40</td>\n",
       "      <td>8.0</td>\n",
       "      <td>115</td>\n",
       "      <td>5500</td>\n",
       "      <td>18</td>\n",
       "      <td>22</td>\n",
       "      <td>17450</td>\n",
       "    </tr>\n",
       "  </tbody>\n",
       "</table>\n",
       "<p>5 rows × 26 columns</p>\n",
       "</div>"
      ],
      "text/plain": [
       "   symboling normalized-losses  make  fuel-type aspiration  num-of-doors  \\\n",
       "0          3               161     0          1        std             1   \n",
       "1          3               161     0          1        std             1   \n",
       "2          1               161     0          1        std             1   \n",
       "3          2               164     1          1        std             0   \n",
       "4          2               164     1          1        std             0   \n",
       "\n",
       "   body-style  drive-wheels engine-location  wheel-base  ...  engine-size  \\\n",
       "0           0             2           front        88.6  ...          130   \n",
       "1           0             2           front        88.6  ...          130   \n",
       "2           2             2           front        94.5  ...          152   \n",
       "3           3             1           front        99.8  ...          109   \n",
       "4           3             0           front        99.4  ...          136   \n",
       "\n",
       "   fuel-system  bore  stroke  compression-ratio  horsepower  peak-rpm  \\\n",
       "0            5  3.47    2.68                9.0         111      5000   \n",
       "1            5  3.47    2.68                9.0         111      5000   \n",
       "2            5  2.68    3.47                9.0         154      5000   \n",
       "3            5  3.19    3.40               10.0         102      5500   \n",
       "4            5  3.19    3.40                8.0         115      5500   \n",
       "\n",
       "   city-mpg highway-mpg  price  \n",
       "0        21          27  13495  \n",
       "1        21          27  16500  \n",
       "2        19          26  16500  \n",
       "3        24          30  13950  \n",
       "4        18          22  17450  \n",
       "\n",
       "[5 rows x 26 columns]"
      ]
     },
     "execution_count": 503,
     "metadata": {},
     "output_type": "execute_result"
    }
   ],
   "source": [
    "for i in col:\n",
    "    df_lin[i] = label_encoder.fit_transform(df_lin[i])\n",
    "df_lin.head()"
   ]
  },
  {
   "cell_type": "code",
   "execution_count": 504,
   "metadata": {
    "execution": {
     "iopub.execute_input": "2022-05-13T13:50:52.603979Z",
     "iopub.status.busy": "2022-05-13T13:50:52.603066Z",
     "iopub.status.idle": "2022-05-13T13:50:52.610020Z",
     "shell.execute_reply": "2022-05-13T13:50:52.608746Z",
     "shell.execute_reply.started": "2022-05-13T13:50:52.603946Z"
    },
    "tags": []
   },
   "outputs": [],
   "source": [
    "for i in lst_con.index:\n",
    "    col.append(i)"
   ]
  },
  {
   "cell_type": "code",
   "execution_count": 505,
   "metadata": {
    "execution": {
     "iopub.execute_input": "2022-05-13T13:50:52.612743Z",
     "iopub.status.busy": "2022-05-13T13:50:52.612431Z",
     "iopub.status.idle": "2022-05-13T13:50:52.636143Z",
     "shell.execute_reply": "2022-05-13T13:50:52.634892Z",
     "shell.execute_reply.started": "2022-05-13T13:50:52.612708Z"
    },
    "tags": []
   },
   "outputs": [
    {
     "data": {
      "text/html": [
       "<div>\n",
       "<style scoped>\n",
       "    .dataframe tbody tr th:only-of-type {\n",
       "        vertical-align: middle;\n",
       "    }\n",
       "\n",
       "    .dataframe tbody tr th {\n",
       "        vertical-align: top;\n",
       "    }\n",
       "\n",
       "    .dataframe thead th {\n",
       "        text-align: right;\n",
       "    }\n",
       "</style>\n",
       "<table border=\"1\" class=\"dataframe\">\n",
       "  <thead>\n",
       "    <tr style=\"text-align: right;\">\n",
       "      <th></th>\n",
       "      <th>make</th>\n",
       "      <th>fuel-type</th>\n",
       "      <th>num-of-doors</th>\n",
       "      <th>body-style</th>\n",
       "      <th>drive-wheels</th>\n",
       "      <th>engine-type</th>\n",
       "      <th>num-of-cylinders</th>\n",
       "      <th>fuel-system</th>\n",
       "      <th>engine-size</th>\n",
       "      <th>curb-weight</th>\n",
       "      <th>horsepower</th>\n",
       "      <th>width</th>\n",
       "      <th>length</th>\n",
       "      <th>wheel-base</th>\n",
       "      <th>city-mpg</th>\n",
       "      <th>highway-mpg</th>\n",
       "    </tr>\n",
       "  </thead>\n",
       "  <tbody>\n",
       "    <tr>\n",
       "      <th>0</th>\n",
       "      <td>0</td>\n",
       "      <td>1</td>\n",
       "      <td>1</td>\n",
       "      <td>0</td>\n",
       "      <td>2</td>\n",
       "      <td>0</td>\n",
       "      <td>2</td>\n",
       "      <td>5</td>\n",
       "      <td>130</td>\n",
       "      <td>2548</td>\n",
       "      <td>111</td>\n",
       "      <td>64.1</td>\n",
       "      <td>168.8</td>\n",
       "      <td>88.6</td>\n",
       "      <td>21</td>\n",
       "      <td>27</td>\n",
       "    </tr>\n",
       "    <tr>\n",
       "      <th>1</th>\n",
       "      <td>0</td>\n",
       "      <td>1</td>\n",
       "      <td>1</td>\n",
       "      <td>0</td>\n",
       "      <td>2</td>\n",
       "      <td>0</td>\n",
       "      <td>2</td>\n",
       "      <td>5</td>\n",
       "      <td>130</td>\n",
       "      <td>2548</td>\n",
       "      <td>111</td>\n",
       "      <td>64.1</td>\n",
       "      <td>168.8</td>\n",
       "      <td>88.6</td>\n",
       "      <td>21</td>\n",
       "      <td>27</td>\n",
       "    </tr>\n",
       "    <tr>\n",
       "      <th>2</th>\n",
       "      <td>0</td>\n",
       "      <td>1</td>\n",
       "      <td>1</td>\n",
       "      <td>2</td>\n",
       "      <td>2</td>\n",
       "      <td>5</td>\n",
       "      <td>3</td>\n",
       "      <td>5</td>\n",
       "      <td>152</td>\n",
       "      <td>2823</td>\n",
       "      <td>154</td>\n",
       "      <td>65.5</td>\n",
       "      <td>171.2</td>\n",
       "      <td>94.5</td>\n",
       "      <td>19</td>\n",
       "      <td>26</td>\n",
       "    </tr>\n",
       "    <tr>\n",
       "      <th>3</th>\n",
       "      <td>1</td>\n",
       "      <td>1</td>\n",
       "      <td>0</td>\n",
       "      <td>3</td>\n",
       "      <td>1</td>\n",
       "      <td>3</td>\n",
       "      <td>2</td>\n",
       "      <td>5</td>\n",
       "      <td>109</td>\n",
       "      <td>2337</td>\n",
       "      <td>102</td>\n",
       "      <td>66.2</td>\n",
       "      <td>176.6</td>\n",
       "      <td>99.8</td>\n",
       "      <td>24</td>\n",
       "      <td>30</td>\n",
       "    </tr>\n",
       "    <tr>\n",
       "      <th>4</th>\n",
       "      <td>1</td>\n",
       "      <td>1</td>\n",
       "      <td>0</td>\n",
       "      <td>3</td>\n",
       "      <td>0</td>\n",
       "      <td>3</td>\n",
       "      <td>1</td>\n",
       "      <td>5</td>\n",
       "      <td>136</td>\n",
       "      <td>2824</td>\n",
       "      <td>115</td>\n",
       "      <td>66.4</td>\n",
       "      <td>176.6</td>\n",
       "      <td>99.4</td>\n",
       "      <td>18</td>\n",
       "      <td>22</td>\n",
       "    </tr>\n",
       "  </tbody>\n",
       "</table>\n",
       "</div>"
      ],
      "text/plain": [
       "   make  fuel-type  num-of-doors  body-style  drive-wheels  engine-type  \\\n",
       "0     0          1             1           0             2            0   \n",
       "1     0          1             1           0             2            0   \n",
       "2     0          1             1           2             2            5   \n",
       "3     1          1             0           3             1            3   \n",
       "4     1          1             0           3             0            3   \n",
       "\n",
       "   num-of-cylinders  fuel-system  engine-size  curb-weight  horsepower  width  \\\n",
       "0                 2            5          130         2548         111   64.1   \n",
       "1                 2            5          130         2548         111   64.1   \n",
       "2                 3            5          152         2823         154   65.5   \n",
       "3                 2            5          109         2337         102   66.2   \n",
       "4                 1            5          136         2824         115   66.4   \n",
       "\n",
       "   length  wheel-base  city-mpg  highway-mpg  \n",
       "0   168.8        88.6        21           27  \n",
       "1   168.8        88.6        21           27  \n",
       "2   171.2        94.5        19           26  \n",
       "3   176.6        99.8        24           30  \n",
       "4   176.6        99.4        18           22  "
      ]
     },
     "execution_count": 505,
     "metadata": {},
     "output_type": "execute_result"
    }
   ],
   "source": [
    "df_LR = df_lin[col]\n",
    "df_LR.head()"
   ]
  },
  {
   "cell_type": "code",
   "execution_count": 506,
   "metadata": {
    "execution": {
     "iopub.execute_input": "2022-05-13T13:50:52.639963Z",
     "iopub.status.busy": "2022-05-13T13:50:52.639638Z",
     "iopub.status.idle": "2022-05-13T13:50:52.645677Z",
     "shell.execute_reply": "2022-05-13T13:50:52.644618Z",
     "shell.execute_reply.started": "2022-05-13T13:50:52.639938Z"
    },
    "tags": []
   },
   "outputs": [],
   "source": [
    "X = df_LR; y = df_lin.price"
   ]
  },
  {
   "cell_type": "code",
   "execution_count": 507,
   "metadata": {
    "execution": {
     "iopub.execute_input": "2022-05-13T13:50:52.649101Z",
     "iopub.status.busy": "2022-05-13T13:50:52.648721Z",
     "iopub.status.idle": "2022-05-13T13:50:52.657520Z",
     "shell.execute_reply": "2022-05-13T13:50:52.656442Z",
     "shell.execute_reply.started": "2022-05-13T13:50:52.649020Z"
    },
    "tags": []
   },
   "outputs": [],
   "source": [
    "X_train,X_test,y_train,y_test = train_test_split(X,y,train_size=.7,random_state=42)"
   ]
  },
  {
   "cell_type": "code",
   "execution_count": 508,
   "metadata": {
    "execution": {
     "iopub.execute_input": "2022-05-13T13:50:52.659779Z",
     "iopub.status.busy": "2022-05-13T13:50:52.659371Z",
     "iopub.status.idle": "2022-05-13T13:50:52.670500Z",
     "shell.execute_reply": "2022-05-13T13:50:52.664645Z",
     "shell.execute_reply.started": "2022-05-13T13:50:52.659732Z"
    },
    "tags": []
   },
   "outputs": [],
   "source": [
    "LR = LinearRegression()"
   ]
  },
  {
   "cell_type": "code",
   "execution_count": 509,
   "metadata": {
    "execution": {
     "iopub.execute_input": "2022-05-13T13:50:52.677093Z",
     "iopub.status.busy": "2022-05-13T13:50:52.676699Z",
     "iopub.status.idle": "2022-05-13T13:50:52.687808Z",
     "shell.execute_reply": "2022-05-13T13:50:52.686671Z",
     "shell.execute_reply.started": "2022-05-13T13:50:52.677045Z"
    },
    "tags": []
   },
   "outputs": [
    {
     "data": {
      "text/plain": [
       "LinearRegression()"
      ]
     },
     "execution_count": 509,
     "metadata": {},
     "output_type": "execute_result"
    }
   ],
   "source": [
    "LR.fit(X_train.values,y_train)"
   ]
  },
  {
   "cell_type": "code",
   "execution_count": 510,
   "metadata": {
    "execution": {
     "iopub.execute_input": "2022-05-13T13:50:52.690251Z",
     "iopub.status.busy": "2022-05-13T13:50:52.689655Z",
     "iopub.status.idle": "2022-05-13T13:50:52.706664Z",
     "shell.execute_reply": "2022-05-13T13:50:52.704990Z",
     "shell.execute_reply.started": "2022-05-13T13:50:52.690209Z"
    },
    "tags": []
   },
   "outputs": [],
   "source": [
    "y_pred = LR.predict(X_test)"
   ]
  },
  {
   "cell_type": "code",
   "execution_count": 511,
   "metadata": {
    "execution": {
     "iopub.execute_input": "2022-05-13T13:50:52.708874Z",
     "iopub.status.busy": "2022-05-13T13:50:52.708493Z",
     "iopub.status.idle": "2022-05-13T13:50:52.718018Z",
     "shell.execute_reply": "2022-05-13T13:50:52.716960Z",
     "shell.execute_reply.started": "2022-05-13T13:50:52.708836Z"
    },
    "tags": []
   },
   "outputs": [
    {
     "data": {
      "text/plain": [
       "(-30943.040238590725,\n",
       " array([-1.38063848e+02, -8.03090766e+02, -1.45968496e+03, -1.57408601e+03,\n",
       "         8.94553507e+02,  6.11564270e+02,  2.54332353e+02,  1.47632129e+02,\n",
       "         7.82841653e+01,  3.52437060e-01,  2.78289951e+01,  2.14884359e+02,\n",
       "         8.37323569e+01,  8.55187722e+01,  2.14042996e+02, -2.95011569e+02]))"
      ]
     },
     "execution_count": 511,
     "metadata": {},
     "output_type": "execute_result"
    }
   ],
   "source": [
    "a = LR.intercept_\n",
    "b = LR.coef_\n",
    "a, b"
   ]
  },
  {
   "cell_type": "code",
   "execution_count": 512,
   "metadata": {
    "execution": {
     "iopub.execute_input": "2022-05-13T13:50:52.720373Z",
     "iopub.status.busy": "2022-05-13T13:50:52.719779Z",
     "iopub.status.idle": "2022-05-13T13:50:52.728831Z",
     "shell.execute_reply": "2022-05-13T13:50:52.727940Z",
     "shell.execute_reply.started": "2022-05-13T13:50:52.720334Z"
    },
    "tags": []
   },
   "outputs": [
    {
     "data": {
      "text/plain": [
       "0.7070452937298618"
      ]
     },
     "execution_count": 512,
     "metadata": {},
     "output_type": "execute_result"
    }
   ],
   "source": [
    "r2_score(y_pred,y_test)"
   ]
  },
  {
   "cell_type": "code",
   "execution_count": 513,
   "metadata": {
    "execution": {
     "iopub.execute_input": "2022-05-13T13:50:52.731236Z",
     "iopub.status.busy": "2022-05-13T13:50:52.730758Z",
     "iopub.status.idle": "2022-05-13T13:50:52.763600Z",
     "shell.execute_reply": "2022-05-13T13:50:52.762035Z",
     "shell.execute_reply.started": "2022-05-13T13:50:52.731199Z"
    },
    "tags": []
   },
   "outputs": [
    {
     "name": "stdout",
     "output_type": "stream",
     "text": [
      "The full R-square is: 0.8111503042595498\n",
      "The train R-square is: 0.8307788633915436\n",
      "The test R-square is: 0.7723230224597082\n"
     ]
    }
   ],
   "source": [
    "print('The full R-square is:', LR.score(X,y))\n",
    "print('The train R-square is:', LR.score(X_train,y_train))\n",
    "print('The test R-square is:', LR.score(X_test,y_test))"
   ]
  },
  {
   "cell_type": "code",
   "execution_count": 514,
   "metadata": {
    "execution": {
     "iopub.execute_input": "2022-05-13T13:50:52.765814Z",
     "iopub.status.busy": "2022-05-13T13:50:52.765454Z",
     "iopub.status.idle": "2022-05-13T13:50:52.774515Z",
     "shell.execute_reply": "2022-05-13T13:50:52.773485Z",
     "shell.execute_reply.started": "2022-05-13T13:50:52.765780Z"
    },
    "tags": []
   },
   "outputs": [
    {
     "name": "stdout",
     "output_type": "stream",
     "text": [
      "The MSE of price and predicted value is:  15628387.898268288\n",
      "The MAE of price and predicted value is:  2708.442539362236\n"
     ]
    }
   ],
   "source": [
    "from sklearn.metrics import mean_squared_error, mean_absolute_error\n",
    "mse = mean_squared_error(y_test, y_pred)\n",
    "mae = mean_absolute_error(y_test, y_pred)\n",
    "print('The MSE of price and predicted value is: ', mse)\n",
    "print('The MAE of price and predicted value is: ', mae)"
   ]
  },
  {
   "cell_type": "code",
   "execution_count": 515,
   "metadata": {
    "execution": {
     "iopub.execute_input": "2022-05-13T13:50:52.778644Z",
     "iopub.status.busy": "2022-05-13T13:50:52.778190Z",
     "iopub.status.idle": "2022-05-13T13:50:52.945404Z",
     "shell.execute_reply": "2022-05-13T13:50:52.944686Z",
     "shell.execute_reply.started": "2022-05-13T13:50:52.778606Z"
    },
    "tags": []
   },
   "outputs": [
    {
     "data": {
      "image/png": "[encoded data removed]",
      "text/plain": [
       "<Figure size 360x360 with 1 Axes>"
      ]
     },
     "metadata": {
      "needs_background": "light"
     },
     "output_type": "display_data"
    }
   ],
   "source": [
    "plt.figure(figsize=(5,5))\n",
    "plt.scatter(y_pred, y_test)\n",
    "plt.xlabel('Model Predictions')\n",
    "plt.ylabel('True Value')\n",
    "plt.plot([0, 50000], [0, 50000], '-', color = 'r')\n",
    "plt.show()"
   ]
  },
  {
   "cell_type": "code",
   "execution_count": 516,
   "metadata": {
    "execution": {
     "iopub.execute_input": "2022-05-13T13:50:52.947285Z",
     "iopub.status.busy": "2022-05-13T13:50:52.946835Z",
     "iopub.status.idle": "2022-05-13T13:50:53.333873Z",
     "shell.execute_reply": "2022-05-13T13:50:53.333234Z",
     "shell.execute_reply.started": "2022-05-13T13:50:52.947245Z"
    },
    "tags": []
   },
   "outputs": [
    {
     "data": {
      "image/png": "[encoded data removed]",
      "text/plain": [
       "<Figure size 1008x432 with 2 Axes>"
      ]
     },
     "metadata": {
      "needs_background": "light"
     },
     "output_type": "display_data"
    }
   ],
   "source": [
    "plt.figure(figsize=(14,6))\n",
    "plt.subplot(1,2,1)\n",
    "ax1 = sns. distplot(y_train, hist=False, color=\"r\", label=\"Actual Train Values\")\n",
    "sns.distplot(LR.predict(X_train), hist=False, color=\"b\", \n",
    "             label=\"Predicted Train Values\", ax=ax1)\n",
    "plt.legend()\n",
    "plt.title(\"Predicted Train Values\")\n",
    "plt.subplot(1,2,2)\n",
    "ax2 = sns.distplot(y_test, hist=False, color=\"r\",label=\"Actual Test Values\")\n",
    "sns.distplot(LR.predict (X_test), hist=False, color=\"b\",label=\"Predicted Test Values\", ax=ax2)\n",
    "plt.legend()\n",
    "plt.title(\"Predicted Test Values\")\n",
    "plt.show()"
   ]
  },
  {
   "cell_type": "markdown",
   "metadata": {},
   "source": [
    "- Hình 1 ta thấy sự phân phối dữ liệu ở trong hình 1 là khá tốt trong việc fit dữ liệu.\n",
    "- Hình 2 có sự khác biệt rõ nhất trong phạm vi price > 10000. <br>\n",
    "Kết luận: với các mẫu oto có giá cao, ngoài các thuộc tính trong tập dữ liệu còn các yếu tố khác quyết định giá của của oto nên việc dự đoán các xe có giá cao sẽ gặp nhiều khó khăn hơn."
   ]
  },
  {
   "cell_type": "code",
   "execution_count": null,
   "metadata": {},
   "outputs": [],
   "source": []
  }
 ],
 "metadata": {
  "kernelspec": {
   "display_name": "Python 3",
   "language": "python",
   "name": "python3"
  },
  "language_info": {
   "codemirror_mode": {
    "name": "ipython",
    "version": 3
   },
   "file_extension": ".py",
   "mimetype": "text/x-python",
   "name": "python",
   "nbconvert_exporter": "python",
   "pygments_lexer": "ipython3",
   "version": "3.6.8"
  }
 },
 "nbformat": 4,
 "nbformat_minor": 4
}
